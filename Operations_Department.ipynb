{
  "nbformat": 4,
  "nbformat_minor": 0,
  "metadata": {
    "colab": {
      "provenance": [],
      "include_colab_link": true
    },
    "kernelspec": {
      "name": "python3",
      "display_name": "Python 3"
    },
    "accelerator": "GPU"
  },
  "cells": [
    {
      "cell_type": "markdown",
      "metadata": {
        "id": "view-in-github",
        "colab_type": "text"
      },
      "source": [
        "<a href=\"https://colab.research.google.com/github/FemiAdesola/Data-Science/blob/main/Operations_Department.ipynb\" target=\"_parent\"><img src=\"https://colab.research.google.com/assets/colab-badge.svg\" alt=\"Open In Colab\"/></a>"
      ]
    },
    {
      "cell_type": "markdown",
      "metadata": {
        "id": "M27qF7CTrBqc"
      },
      "source": [
        "# <ins>**UNDERSTAND THE PROBLEM STATEMENT AND BUSINESS CASE**"
      ]
    },
    {
      "cell_type": "markdown",
      "metadata": {
        "id": "Z2ZMlH-gtOxf"
      },
      "source": [
        "\n",
        "<table>\n",
        "  <tr><td>\n",
        "    <img src=\"https://drive.google.com/uc?id=15eGnAbma5Q_j9CZZKi46Gh3-EpgSWYOV\"\n",
        "         alt=\"Fashion MNIST sprite\"  width=\"1000\">\n",
        "  </td></tr>\n",
        "  <tr><td align=\"center\">\n",
        "    <b>Figure 1. Classifying disease using Deep Learning\n",
        "  </td></tr>\n",
        "</table>\n"
      ]
    },
    {
      "cell_type": "markdown",
      "metadata": {
        "id": "59ov3bGiurn9"
      },
      "source": [
        "# <ins>**Operational Departmet**\n",
        "+ Al/ML/DL has been revolutionizing healthcare and medicine:\n",
        "  + Medical imagery\n",
        "  + Drug research\n",
        "  + Genome development\n",
        "\n",
        "+ Deep learning has been proven to be superior in detecting and classifying disease using imagery data.\n",
        "\n",
        "+ Skin cancer could be detected more accurately by\n",
        "Deep Learning than by dermatologists (2018).\n",
        "  + Human dermatologists detection = 86.6%\n",
        "  + Deep Learning detection = 95%\n",
        "\n",
        "  Reference: \"Computer learns to detect skin cancer more accurately than doctors\". The Guardian. 29 May 2018\n",
        "\n",
        "# <ins>**Case study**\n",
        "+ In this case study, we will assume that you work as a\n",
        "Deep Learning Consultant.\n",
        "+ You have been hired by a hospital in downtown\n",
        "Toronto and you have been tasked to automate the process of detecting and classifying chest disease and reduce the cost and time of detection.\n",
        "+ The team has collected extensive X-Ray chest data and they approached you to develop a model that could detect and classify the diseases in less than 1 minute.\n",
        "+ You have been provided with 133 images that belong\n",
        "to 4 classes:\n",
        "  + Healthy\n",
        "  + Covid-19\n",
        "  + Bacterial Pneumonia\n",
        "  + Viral Pneumonia"
      ]
    },
    {
      "cell_type": "markdown",
      "metadata": {
        "id": "zKmFmyaGunc7"
      },
      "source": [
        "# <ins>**IMPORT LIBRARIES AND DATASET**"
      ]
    },
    {
      "cell_type": "code",
      "metadata": {
        "id": "S0Cx3743urFY"
      },
      "source": [
        "# This is a custom dataset that contains covid-19 x-ray images, viral pneumonia x-ray images, bacterial pneumonia x-ray iamges and normal person x-ray images.\n",
        "# Each class contains 133 images.\n",
        "# Dataset Source:\n",
        "# https://github.com/ieee8023/covid-chestxray-dataset\n",
        "# https://www.kaggle.com/paultimothymooney/chest-xray-pneumonia\n",
        "\n",
        "\n",
        "import os\n",
        "import cv2\n",
        "import tensorflow as tf\n",
        "import numpy as np\n",
        "from tensorflow.keras import layers, optimizers\n",
        "from tensorflow.keras.applications.resnet50 import ResNet50\n",
        "from tensorflow.keras.layers import Input, Add, Dense, Activation, ZeroPadding2D, BatchNormalization, Flatten, Conv2D, AveragePooling2D, MaxPooling2D, Dropout\n",
        "from tensorflow.keras.models import Model, load_model\n",
        "from tensorflow.keras import backend as K\n",
        "from tensorflow.keras.preprocessing.image import ImageDataGenerator\n",
        "from tensorflow.keras.callbacks import ReduceLROnPlateau, EarlyStopping, ModelCheckpoint, LearningRateScheduler\n",
        "import matplotlib.pyplot as plt\n",
        "import seaborn as sns\n",
        "import pandas as pd\n"
      ],
      "execution_count": 1,
      "outputs": []
    },
    {
      "cell_type": "code",
      "metadata": {
        "id": "5P_ciLXawMZg",
        "outputId": "0ecdc352-fc45-4c42-99ce-bb1d21991d56",
        "colab": {
          "base_uri": "https://localhost:8080/"
        }
      },
      "source": [
        "# For mounting the drive:\n",
        "\n",
        "from google.colab import drive\n",
        "drive.mount('/content/drive')"
      ],
      "execution_count": 2,
      "outputs": [
        {
          "output_type": "stream",
          "name": "stdout",
          "text": [
            "Mounted at /content/drive\n"
          ]
        }
      ]
    },
    {
      "cell_type": "code",
      "metadata": {
        "id": "tjIiJdM4u1IE"
      },
      "source": [
        "# Specify training data directory\n"
      ],
      "execution_count": 3,
      "outputs": []
    },
    {
      "cell_type": "code",
      "metadata": {
        "id": "GZFbo0iCAeNe"
      },
      "source": [
        "# List the folders in the directory\n"
      ],
      "execution_count": 4,
      "outputs": []
    },
    {
      "cell_type": "code",
      "metadata": {
        "id": "k0RtXNn-9uWC"
      },
      "source": [
        "# Use image generator to generate tensor images data and normalize them\n",
        "# Use 20% of the data for cross-validation\n"
      ],
      "execution_count": 5,
      "outputs": []
    },
    {
      "cell_type": "code",
      "metadata": {
        "id": "NnGV7yqd9ufD"
      },
      "source": [
        "# Generate batches of 40 images\n",
        "# Total number of images is 133*4 = 532 images\n",
        "# Training is 428 (80%) and validation is 104 (20%)\n",
        "# Perform shuffling and image resizing\n",
        "\n"
      ],
      "execution_count": 6,
      "outputs": []
    },
    {
      "cell_type": "code",
      "metadata": {
        "id": "KgoOjMDTUShI"
      },
      "source": [],
      "execution_count": 6,
      "outputs": []
    },
    {
      "cell_type": "code",
      "metadata": {
        "id": "8lQchBKuFjaT"
      },
      "source": [
        "# Generate a batch of 40 images and labels\n"
      ],
      "execution_count": 7,
      "outputs": []
    },
    {
      "cell_type": "code",
      "metadata": {
        "id": "xxa7jZYGXzaL"
      },
      "source": [],
      "execution_count": 7,
      "outputs": []
    },
    {
      "cell_type": "code",
      "metadata": {
        "id": "c0Qfqxb3FoFr"
      },
      "source": [],
      "execution_count": 7,
      "outputs": []
    },
    {
      "cell_type": "code",
      "metadata": {
        "id": "-AFP2kTJYvmm"
      },
      "source": [],
      "execution_count": 7,
      "outputs": []
    },
    {
      "cell_type": "code",
      "metadata": {
        "id": "E5U_27s8F8rr"
      },
      "source": [
        "# labels Translator\n"
      ],
      "execution_count": 8,
      "outputs": []
    },
    {
      "cell_type": "markdown",
      "metadata": {
        "id": "LlszUhNNyrl_"
      },
      "source": [
        "# <ins>**VISUALIZE DATASET**"
      ]
    },
    {
      "cell_type": "code",
      "metadata": {
        "id": "olZZy0KbGQrz"
      },
      "source": [],
      "execution_count": 8,
      "outputs": []
    },
    {
      "cell_type": "markdown",
      "metadata": {
        "id": "2vyFhhu5ZEae"
      },
      "source": [
        "# <ins>**UNDERSTAND THE THEORY AND INTUITION BEHIND CONVOLUTIONAL NEURAL NETWORKS**"
      ]
    },
    {
      "cell_type": "markdown",
      "metadata": {
        "id": "g59BVxCKuwQT"
      },
      "source": [
        "![alt text](https://drive.google.com/uc?id=176TJGdJtNZmX4J5QyeI8W_YS5f1gg5VS)"
      ]
    },
    {
      "cell_type": "markdown",
      "metadata": {
        "id": "pO4nM64ovEMV"
      },
      "source": [
        "![alt text](https://drive.google.com/uc?id=1340UvqbXc-sy6cIuVg7ZbOwcga2JxfkP)"
      ]
    },
    {
      "cell_type": "markdown",
      "metadata": {
        "id": "X1Uu1E9zvEOo"
      },
      "source": [
        "# <ins>**DEEP LEARNING HISTORY**\n",
        "+ There are many trained off the shelve convolutional neural networks that are readily available such as:\n",
        "  + **LeNet-5 (1998)**: 7 level convolutional neural network developed by LeCun that works in classifying hand writing numbers.\n",
        "  + **AlexNet (2012)**: Offered massive improvement, error reduction from 26% to 15.3%\n",
        "  + **ZFNEt (2013)**: achieved error of 14.8%\n",
        "  + **Googlenet/Inception (2014**): error reduction to 6.67% which is at par with human level accuracy.\n",
        "  + **VGGNet (2014)**\n",
        "  + **ResNet (2015)**: Residual Neural Network includes \"skip connection\" feature and therefore enabled training of 152 layers without vanishing gradient issues. Error of 3.57% which is superior than humans.\n",
        "\n",
        "  Data Source: https://medium.com/analytics-vidhya/cnns-architectures-lenet-alexnet-vgg-googlenet-resnet-and-more-666091488df5\n",
        "  "
      ]
    },
    {
      "cell_type": "markdown",
      "metadata": {
        "id": "wTrjJMn7vEY2"
      },
      "source": [
        "![alt text](https://drive.google.com/uc?id=1nt8iX7H2LEhaWgGCi_NIb05DMQEoJVfI)"
      ]
    },
    {
      "cell_type": "markdown",
      "metadata": {
        "id": "_muMH4NVZOWi"
      },
      "source": [
        "# <ins>**UNDERSTAND THE THEORY AND INTUITION BEHIND TRANSFER LEARNING**"
      ]
    },
    {
      "cell_type": "markdown",
      "metadata": {
        "id": "7tQzly2Avap9"
      },
      "source": [
        "![alt text](https://drive.google.com/uc?id=1Wnti2DSmA2qMRsgkD7Z_MJkmed0bJZTN)"
      ]
    },
    {
      "cell_type": "markdown",
      "metadata": {
        "id": "-lo7oDnivasL"
      },
      "source": [
        "![alt text](https://drive.google.com/uc?id=1Chdq0gdnHGYDDb50pMMtcTOZMr0u37Iz)"
      ]
    },
    {
      "cell_type": "markdown",
      "metadata": {
        "id": "9fUMEWJYvhWw"
      },
      "source": [
        "![alt text](https://drive.google.com/uc?id=14niGb232X6l8OD1dMT4a_u3fjh_jKuMS)"
      ]
    },
    {
      "cell_type": "markdown",
      "metadata": {
        "id": "8aOiBV1avauQ"
      },
      "source": [
        "![alt text](https://drive.google.com/uc?id=1dye4zWALCDu8a1a-58HfZk4On4nVuizV)"
      ]
    },
    {
      "cell_type": "markdown",
      "metadata": {
        "id": "Y0GmpAjG3GiH"
      },
      "source": [
        "# <ins>**IMPORT MODEL WITH PRETRAINED WEIGHTS**"
      ]
    },
    {
      "cell_type": "code",
      "metadata": {
        "id": "f3af8n0yK5J4"
      },
      "source": [],
      "execution_count": 8,
      "outputs": []
    },
    {
      "cell_type": "code",
      "metadata": {
        "id": "_22VrBeYK5MQ"
      },
      "source": [],
      "execution_count": 8,
      "outputs": []
    },
    {
      "cell_type": "code",
      "metadata": {
        "id": "FIPKDIgCK8G5"
      },
      "source": [
        "# freezing layers in the model\n"
      ],
      "execution_count": 9,
      "outputs": []
    },
    {
      "cell_type": "markdown",
      "metadata": {
        "id": "FPAuxlN6ZnrF"
      },
      "source": [
        "# <ins>**BUILD AND TRAIN DEEP LEARNING MODEL**"
      ]
    },
    {
      "cell_type": "code",
      "metadata": {
        "id": "qfa8I1SBK82d"
      },
      "source": [],
      "execution_count": 9,
      "outputs": []
    },
    {
      "cell_type": "code",
      "metadata": {
        "id": "o_5nSJxDLANF"
      },
      "source": [],
      "execution_count": 9,
      "outputs": []
    },
    {
      "cell_type": "code",
      "metadata": {
        "id": "-ITmmuodtGgp"
      },
      "source": [],
      "execution_count": 9,
      "outputs": []
    },
    {
      "cell_type": "code",
      "metadata": {
        "id": "p_QL4lTXLDv1"
      },
      "source": [
        "# using early stopping to exit training if validation loss is not decreasing after certain number of epochs (patience)\n",
        "\n",
        "# save the best model with lower validation loss\n"
      ],
      "execution_count": 10,
      "outputs": []
    },
    {
      "cell_type": "code",
      "metadata": {
        "id": "jSqp1_-sWspT"
      },
      "source": [],
      "execution_count": 10,
      "outputs": []
    },
    {
      "cell_type": "code",
      "metadata": {
        "id": "VplEbBNmLF7I"
      },
      "source": [],
      "execution_count": 10,
      "outputs": []
    },
    {
      "cell_type": "markdown",
      "metadata": {
        "id": "53qDZFRn3-S1"
      },
      "source": [
        "# <ins>**EVALUATE TRAINED DEEP LEARNING MODEL**"
      ]
    },
    {
      "cell_type": "code",
      "metadata": {
        "id": "AfQ5pPAS3CQF"
      },
      "source": [],
      "execution_count": 10,
      "outputs": []
    },
    {
      "cell_type": "code",
      "metadata": {
        "id": "eXiDop_l5erJ"
      },
      "source": [],
      "execution_count": 10,
      "outputs": []
    },
    {
      "cell_type": "code",
      "metadata": {
        "id": "NIKapXYTYYTD"
      },
      "source": [],
      "execution_count": 10,
      "outputs": []
    },
    {
      "cell_type": "code",
      "metadata": {
        "id": "IOt4peosZMxu"
      },
      "source": [],
      "execution_count": 10,
      "outputs": []
    },
    {
      "cell_type": "code",
      "metadata": {
        "id": "6DmEMEsua_56"
      },
      "source": [],
      "execution_count": 10,
      "outputs": []
    },
    {
      "cell_type": "code",
      "metadata": {
        "id": "06gdW-KJbFIo"
      },
      "source": [],
      "execution_count": 10,
      "outputs": []
    },
    {
      "cell_type": "code",
      "metadata": {
        "id": "cOGsNy5PbpE2"
      },
      "source": [],
      "execution_count": 10,
      "outputs": []
    },
    {
      "cell_type": "code",
      "metadata": {
        "id": "EIPjNOm4ZOU3"
      },
      "source": [],
      "execution_count": 10,
      "outputs": []
    },
    {
      "cell_type": "code",
      "metadata": {
        "id": "HuHlUhSHdJF3"
      },
      "source": [],
      "execution_count": 10,
      "outputs": []
    },
    {
      "cell_type": "code",
      "metadata": {
        "id": "HAXuRyhvdXEX"
      },
      "source": [],
      "execution_count": 10,
      "outputs": []
    },
    {
      "cell_type": "code",
      "metadata": {
        "id": "MkoN6f_Yg7wT"
      },
      "source": [],
      "execution_count": 10,
      "outputs": []
    },
    {
      "cell_type": "code",
      "metadata": {
        "id": "5d4zcFimg-al"
      },
      "source": [],
      "execution_count": 10,
      "outputs": []
    }
  ]
}