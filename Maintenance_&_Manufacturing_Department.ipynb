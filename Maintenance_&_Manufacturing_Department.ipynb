{
  "nbformat": 4,
  "nbformat_minor": 0,
  "metadata": {
    "colab": {
      "provenance": [],
      "include_colab_link": true
    },
    "kernelspec": {
      "name": "python3",
      "display_name": "Python 3"
    },
    "accelerator": "GPU"
  },
  "cells": [
    {
      "cell_type": "markdown",
      "metadata": {
        "id": "view-in-github",
        "colab_type": "text"
      },
      "source": [
        "<a href=\"https://colab.research.google.com/github/FemiAdesola/Data-Science/blob/main/Maintenance_%26_Manufacturing_Department.ipynb\" target=\"_parent\"><img src=\"https://colab.research.google.com/assets/colab-badge.svg\" alt=\"Open In Colab\"/></a>"
      ]
    },
    {
      "cell_type": "markdown",
      "metadata": {
        "id": "M27qF7CTrBqc"
      },
      "source": [
        "# <ins>**THE DATA SCIENCE FOR BUSINESS**"
      ]
    },
    {
      "cell_type": "markdown",
      "metadata": {
        "id": "Z2ZMlH-gtOxf"
      },
      "source": [
        "\n",
        "<table>\n",
        "  <tr><td>\n",
        "    <img src=\"https://drive.google.com/uc?id=1rcxnQuLqFyn8l9hQmdyp-yxSaXhxJPed\"\n",
        "         alt=\"Fashion MNIST sprite\"  width=\"1000\">\n",
        "  </td></tr>\n",
        "  <tr><td align=\"center\">\n",
        "    <b>Figure 1. Predict Defects Using Deep Learning\n",
        "  </td></tr>\n",
        "</table>\n"
      ]
    },
    {
      "cell_type": "markdown",
      "metadata": {
        "id": "6bLpY2prr3qt"
      },
      "source": [
        "# <ins>**Maintenance & Manufacturing Department**\n",
        "+ Artificial Intelligence and Machine Learning are transforming the manufacturing industry. According to the report released by World Economic Forum, these technologies will play significant roles in the fourth industrial revolution. Major areas which can be benefited from this are:\n",
        "  + Maintenance Department\n",
        "  + Production Department\n",
        "  + Supply Chain Department\n",
        "+ Deep learning has been proven to be superior in detecting and localizing defects using imagery data which could significantly improve the production efficiency in the manufacturing industry.\n",
        "+ Great Example from LandingAI:\n",
        "\n",
        "https://landing.ai/defect-detection\n",
        "\n",
        "\n",
        "## <ins>**Case Study**\n",
        "\n",
        "In this case study, we will assume that you work as an Al/ ML consultant.\n",
        "+ You have been hired by a steel manufacturing company in San Diego and you have been tasked to automate the process of detecting and localizing defects found in Steel manufacturing.\n",
        "+ Detecting defects would help in improving the quality of manufacturing as well as in reducing the waste due to production defects.\n",
        "+ The team has collected images of steel surfaces and have approached you to develop a model that could detect and localize defects in real-time.\n",
        "+ You have been provided with 12600 images that contain 4 types of defects, along with their location in the steel surface."
      ]
    },
    {
      "cell_type": "markdown",
      "metadata": {
        "id": "RxRAp6a7Lso9"
      },
      "source": [
        "![alt text](https://drive.google.com/uc?id=1nzRA5KU0eWo0YPZtSxUWOoMlvooKGCkt)"
      ]
    },
    {
      "cell_type": "markdown",
      "metadata": {
        "id": "wCszOgccu7vv"
      },
      "source": [
        "## <ins>**WHAT IS IMAGE SEGMENTATION?**\n",
        "+ The goal of image segmentation is to understand and extract information from images at the pixel-level.\n",
        "+ Image Segmentation can be used for object recognition and localization which offers tremendous value in many applications such as medical imaging and self-driving cars etc.\n",
        "+ The goal of image segmentation is to train a neural network to produce pixel-wise mask of the image.\n",
        "+ Modern image segmentation techniques are based on deep learning approach which makes use of common architectures such as CNN, FCs (Fully Convolution Networks) and Deep Encoders-Decoders.\n",
        "+ You will be using ResUNet architecture to solve the current task.\n",
        "+ When we applied CNN for image classification problems? We had to convert the image into a vector and possibly add a classification head at the end.\n",
        "+ However, in case of Unet, we convert (encode) the image into a vector followed by up sampling (decode) it back again into an image.\n",
        "+ In case of Unet, the input and output have the same size so the size of the image is preserved.\n",
        "+ **For classical CNNs**: they are generally used when the entire image is needed to be classified as a class label.\n",
        "+ **For Unet**: pixel level classification is performed.\n",
        "+ **U-net** formulates a loss function for every pixel in the input image.\n",
        "+ **Softmax** function is applied to every pixel which makes the segmentation problem works as a classification problem where classification is performed on every pixel of the image\n",
        "\n",
        "https://aditi-mittal.medium.com/introduction-to-u-net-and-res-net-for-image-segmentation-9afcb432ee2f\n"
      ]
    },
    {
      "cell_type": "markdown",
      "metadata": {
        "id": "zKmFmyaGunc7"
      },
      "source": [
        "# <ins>**IMPORT LIBRARIES AND DATASETS**"
      ]
    },
    {
      "cell_type": "code",
      "metadata": {
        "id": "S0Cx3743urFY"
      },
      "source": [
        "import pandas as pd\n",
        "import numpy as np\n",
        "import seaborn as sns\n",
        "import matplotlib.pyplot as plt\n",
        "import zipfile\n",
        "import cv2\n",
        "from skimage import io\n",
        "import tensorflow as tf\n",
        "from tensorflow.python.keras import Sequential\n",
        "from tensorflow.keras import layers, optimizers\n",
        "from tensorflow.keras.applications import DenseNet121\n",
        "from tensorflow.keras.applications.resnet50 import ResNet50\n",
        "from tensorflow.keras.layers import *\n",
        "from tensorflow.keras.models import Model, load_model\n",
        "from tensorflow.keras.initializers import glorot_uniform\n",
        "from tensorflow.keras.utils import plot_model\n",
        "from tensorflow.keras.callbacks import ReduceLROnPlateau, EarlyStopping, ModelCheckpoint, LearningRateScheduler\n",
        "from IPython.display import display\n",
        "from tensorflow.keras import backend as K\n",
        "from sklearn.preprocessing import StandardScaler, normalize\n",
        "import os\n",
        "from google.colab import files\n",
        "%matplotlib inline\n"
      ],
      "execution_count": 1,
      "outputs": []
    },
    {
      "cell_type": "code",
      "metadata": {
        "id": "5P_ciLXawMZg",
        "outputId": "bfb36f82-4032-416e-ded4-dda09747df75",
        "colab": {
          "base_uri": "https://localhost:8080/"
        }
      },
      "source": [
        "# You will need to mount your drive using the following commands:\n",
        "from google.colab import drive\n",
        "drive.mount('/content/drive')"
      ],
      "execution_count": 2,
      "outputs": [
        {
          "output_type": "stream",
          "name": "stdout",
          "text": [
            "Mounted at /content/drive\n"
          ]
        }
      ]
    },
    {
      "cell_type": "markdown",
      "metadata": {
        "id": "x3kcVUXiwzUk"
      },
      "source": [
        "## <ins>**MASK:**\n",
        "+ The goal of image segmentation is to understand the image at the pixel level. It associates each pixel with a certain class. The output produce by image segmentation model is called a\n",
        "\"mask\" of the image.\n",
        "+ Masks can be represented by associating pixel values with their coordinates. For example if we have a black image of shape (2,2), this can be represented as:\\\n",
        "[[0, 0], B B\\\n",
        "[0, 0]] B B\n",
        "\n",
        "If our output mask is as follows:\\\n",
        "[[255, 01, W B \\\n",
        "[0,255, B W]]\n",
        "\n",
        "+ To represent this mask we have to first flatten the image into a\n",
        "1-D array. This would result in something like [255,0,0,255] for mask. Then, we can use the index to create the mask. \\\n",
        "Finally we would have something like [1,0,0,1] as our mask.\n",
        "\n",
        "## <ins>**RUN LENGTH ENCODING (RLE):**\n",
        "+ Sometimes it is hard to represent mask using index as it would make the length of mask equal to product of height and width of the image\n",
        "+ To overcome this we use lossless data compression technique called Run-length encoding (RLE), which stores sequences that contain many consecutive data elements as a single data value followed by the count.\n",
        "+ For example, assume we have an image (single row) containing plain black text on a solid white background. **B** represents black pixel and **W** represents white: \\\n",
        "\n",
        "  WWWWWWWWWWWWBWWWWWWWW \\\n",
        "  WWWWWBBBWWWWWWWWWWWWW \\\n",
        "  WWWWWWWWWWWWBWWWWWWWW \\\n",
        "  WWWWWW\n",
        "\n",
        "+ Run-length encoding (RLE):\n",
        "    + 12W1B12W3B24W1B14W\n",
        "\n",
        "+ This can be interpreted as a sequence of twelve Ws, one B, twelve Ws, three Bs, etc.,"
      ]
    },
    {
      "cell_type": "code",
      "metadata": {
        "id": "tjIiJdM4u1IE"
      },
      "source": [
        "# data containing defect images with segmentation mask\n",
        "defect_class_mask_df = pd.read_csv('/content/drive/My Drive/Colab Notebooks/Manufacturing/train_M.csv')"
      ],
      "execution_count": 37,
      "outputs": []
    },
    {
      "cell_type": "markdown",
      "source": [
        "And the goal of image segmentation is to train in vour network to produce pixel y's mask of the image."
      ],
      "metadata": {
        "id": "6NlNTuk5OnWT"
      }
    },
    {
      "cell_type": "code",
      "metadata": {
        "id": "DbC_D1Gnw5_y"
      },
      "source": [
        "# data containing defective and non defective images\n",
        "all_images_df = pd.read_csv('/content/drive/My Drive/Colab Notebooks/Manufacturing/defect_and_no_defect.csv')"
      ],
      "execution_count": 38,
      "outputs": []
    },
    {
      "cell_type": "code",
      "metadata": {
        "id": "q4_wPDKCu5Uc",
        "colab": {
          "base_uri": "https://localhost:8080/",
          "height": 424
        },
        "outputId": "52dd2eaa-147f-4cd3-a061-4fef39134668"
      },
      "source": [
        "defect_class_mask_df"
      ],
      "execution_count": 39,
      "outputs": [
        {
          "output_type": "execute_result",
          "data": {
            "text/plain": [
              "            ImageId  ClassId  \\\n",
              "0     d2291de5c.jpg        1   \n",
              "1     78416c3d0.jpg        3   \n",
              "2     2283f2183.jpg        3   \n",
              "3     f0dc068a8.jpg        3   \n",
              "4     00d639396.jpg        3   \n",
              "...             ...      ...   \n",
              "5743  c12842f5e.jpg        3   \n",
              "5744  2222a03b3.jpg        3   \n",
              "5745  b43ea2c01.jpg        1   \n",
              "5746  1bc37a6f4.jpg        3   \n",
              "5747  f4413e172.jpg        3   \n",
              "\n",
              "                                          EncodedPixels  \n",
              "0     147963 3 148213 9 148461 18 148711 24 148965 2...  \n",
              "1     54365 3 54621 7 54877 10 55133 12 55388 14 556...  \n",
              "2     201217 43 201473 128 201729 213 201985 5086 20...  \n",
              "3     159207 26 159412 77 159617 128 159822 179 1600...  \n",
              "4     229356 17 229595 34 229850 36 230105 37 230360...  \n",
              "...                                                 ...  \n",
              "5743  88 23 342 29 596 34 850 39 1105 44 1361 46 161...  \n",
              "5744  63332 4 63587 11 63841 20 64096 27 64351 35 64...  \n",
              "5745  185024 7 185279 11 185535 12 185790 13 186045 ...  \n",
              "5746  303867 1 304122 3 304376 6 304613 3 304630 9 3...  \n",
              "5747  254911 3 255165 8 255419 12 255672 18 255926 2...  \n",
              "\n",
              "[5748 rows x 3 columns]"
            ],
            "text/html": [
              "\n",
              "  <div id=\"df-370937d6-b2c2-4f95-8d16-694cc7a0383e\" class=\"colab-df-container\">\n",
              "    <div>\n",
              "<style scoped>\n",
              "    .dataframe tbody tr th:only-of-type {\n",
              "        vertical-align: middle;\n",
              "    }\n",
              "\n",
              "    .dataframe tbody tr th {\n",
              "        vertical-align: top;\n",
              "    }\n",
              "\n",
              "    .dataframe thead th {\n",
              "        text-align: right;\n",
              "    }\n",
              "</style>\n",
              "<table border=\"1\" class=\"dataframe\">\n",
              "  <thead>\n",
              "    <tr style=\"text-align: right;\">\n",
              "      <th></th>\n",
              "      <th>ImageId</th>\n",
              "      <th>ClassId</th>\n",
              "      <th>EncodedPixels</th>\n",
              "    </tr>\n",
              "  </thead>\n",
              "  <tbody>\n",
              "    <tr>\n",
              "      <th>0</th>\n",
              "      <td>d2291de5c.jpg</td>\n",
              "      <td>1</td>\n",
              "      <td>147963 3 148213 9 148461 18 148711 24 148965 2...</td>\n",
              "    </tr>\n",
              "    <tr>\n",
              "      <th>1</th>\n",
              "      <td>78416c3d0.jpg</td>\n",
              "      <td>3</td>\n",
              "      <td>54365 3 54621 7 54877 10 55133 12 55388 14 556...</td>\n",
              "    </tr>\n",
              "    <tr>\n",
              "      <th>2</th>\n",
              "      <td>2283f2183.jpg</td>\n",
              "      <td>3</td>\n",
              "      <td>201217 43 201473 128 201729 213 201985 5086 20...</td>\n",
              "    </tr>\n",
              "    <tr>\n",
              "      <th>3</th>\n",
              "      <td>f0dc068a8.jpg</td>\n",
              "      <td>3</td>\n",
              "      <td>159207 26 159412 77 159617 128 159822 179 1600...</td>\n",
              "    </tr>\n",
              "    <tr>\n",
              "      <th>4</th>\n",
              "      <td>00d639396.jpg</td>\n",
              "      <td>3</td>\n",
              "      <td>229356 17 229595 34 229850 36 230105 37 230360...</td>\n",
              "    </tr>\n",
              "    <tr>\n",
              "      <th>...</th>\n",
              "      <td>...</td>\n",
              "      <td>...</td>\n",
              "      <td>...</td>\n",
              "    </tr>\n",
              "    <tr>\n",
              "      <th>5743</th>\n",
              "      <td>c12842f5e.jpg</td>\n",
              "      <td>3</td>\n",
              "      <td>88 23 342 29 596 34 850 39 1105 44 1361 46 161...</td>\n",
              "    </tr>\n",
              "    <tr>\n",
              "      <th>5744</th>\n",
              "      <td>2222a03b3.jpg</td>\n",
              "      <td>3</td>\n",
              "      <td>63332 4 63587 11 63841 20 64096 27 64351 35 64...</td>\n",
              "    </tr>\n",
              "    <tr>\n",
              "      <th>5745</th>\n",
              "      <td>b43ea2c01.jpg</td>\n",
              "      <td>1</td>\n",
              "      <td>185024 7 185279 11 185535 12 185790 13 186045 ...</td>\n",
              "    </tr>\n",
              "    <tr>\n",
              "      <th>5746</th>\n",
              "      <td>1bc37a6f4.jpg</td>\n",
              "      <td>3</td>\n",
              "      <td>303867 1 304122 3 304376 6 304613 3 304630 9 3...</td>\n",
              "    </tr>\n",
              "    <tr>\n",
              "      <th>5747</th>\n",
              "      <td>f4413e172.jpg</td>\n",
              "      <td>3</td>\n",
              "      <td>254911 3 255165 8 255419 12 255672 18 255926 2...</td>\n",
              "    </tr>\n",
              "  </tbody>\n",
              "</table>\n",
              "<p>5748 rows × 3 columns</p>\n",
              "</div>\n",
              "    <div class=\"colab-df-buttons\">\n",
              "\n",
              "  <div class=\"colab-df-container\">\n",
              "    <button class=\"colab-df-convert\" onclick=\"convertToInteractive('df-370937d6-b2c2-4f95-8d16-694cc7a0383e')\"\n",
              "            title=\"Convert this dataframe to an interactive table.\"\n",
              "            style=\"display:none;\">\n",
              "\n",
              "  <svg xmlns=\"http://www.w3.org/2000/svg\" height=\"24px\" viewBox=\"0 -960 960 960\">\n",
              "    <path d=\"M120-120v-720h720v720H120Zm60-500h600v-160H180v160Zm220 220h160v-160H400v160Zm0 220h160v-160H400v160ZM180-400h160v-160H180v160Zm440 0h160v-160H620v160ZM180-180h160v-160H180v160Zm440 0h160v-160H620v160Z\"/>\n",
              "  </svg>\n",
              "    </button>\n",
              "\n",
              "  <style>\n",
              "    .colab-df-container {\n",
              "      display:flex;\n",
              "      gap: 12px;\n",
              "    }\n",
              "\n",
              "    .colab-df-convert {\n",
              "      background-color: #E8F0FE;\n",
              "      border: none;\n",
              "      border-radius: 50%;\n",
              "      cursor: pointer;\n",
              "      display: none;\n",
              "      fill: #1967D2;\n",
              "      height: 32px;\n",
              "      padding: 0 0 0 0;\n",
              "      width: 32px;\n",
              "    }\n",
              "\n",
              "    .colab-df-convert:hover {\n",
              "      background-color: #E2EBFA;\n",
              "      box-shadow: 0px 1px 2px rgba(60, 64, 67, 0.3), 0px 1px 3px 1px rgba(60, 64, 67, 0.15);\n",
              "      fill: #174EA6;\n",
              "    }\n",
              "\n",
              "    .colab-df-buttons div {\n",
              "      margin-bottom: 4px;\n",
              "    }\n",
              "\n",
              "    [theme=dark] .colab-df-convert {\n",
              "      background-color: #3B4455;\n",
              "      fill: #D2E3FC;\n",
              "    }\n",
              "\n",
              "    [theme=dark] .colab-df-convert:hover {\n",
              "      background-color: #434B5C;\n",
              "      box-shadow: 0px 1px 3px 1px rgba(0, 0, 0, 0.15);\n",
              "      filter: drop-shadow(0px 1px 2px rgba(0, 0, 0, 0.3));\n",
              "      fill: #FFFFFF;\n",
              "    }\n",
              "  </style>\n",
              "\n",
              "    <script>\n",
              "      const buttonEl =\n",
              "        document.querySelector('#df-370937d6-b2c2-4f95-8d16-694cc7a0383e button.colab-df-convert');\n",
              "      buttonEl.style.display =\n",
              "        google.colab.kernel.accessAllowed ? 'block' : 'none';\n",
              "\n",
              "      async function convertToInteractive(key) {\n",
              "        const element = document.querySelector('#df-370937d6-b2c2-4f95-8d16-694cc7a0383e');\n",
              "        const dataTable =\n",
              "          await google.colab.kernel.invokeFunction('convertToInteractive',\n",
              "                                                    [key], {});\n",
              "        if (!dataTable) return;\n",
              "\n",
              "        const docLinkHtml = 'Like what you see? Visit the ' +\n",
              "          '<a target=\"_blank\" href=https://colab.research.google.com/notebooks/data_table.ipynb>data table notebook</a>'\n",
              "          + ' to learn more about interactive tables.';\n",
              "        element.innerHTML = '';\n",
              "        dataTable['output_type'] = 'display_data';\n",
              "        await google.colab.output.renderOutput(dataTable, element);\n",
              "        const docLink = document.createElement('div');\n",
              "        docLink.innerHTML = docLinkHtml;\n",
              "        element.appendChild(docLink);\n",
              "      }\n",
              "    </script>\n",
              "  </div>\n",
              "\n",
              "\n",
              "<div id=\"df-83a31abe-5633-4c61-b6a3-1226c448d966\">\n",
              "  <button class=\"colab-df-quickchart\" onclick=\"quickchart('df-83a31abe-5633-4c61-b6a3-1226c448d966')\"\n",
              "            title=\"Suggest charts\"\n",
              "            style=\"display:none;\">\n",
              "\n",
              "<svg xmlns=\"http://www.w3.org/2000/svg\" height=\"24px\"viewBox=\"0 0 24 24\"\n",
              "     width=\"24px\">\n",
              "    <g>\n",
              "        <path d=\"M19 3H5c-1.1 0-2 .9-2 2v14c0 1.1.9 2 2 2h14c1.1 0 2-.9 2-2V5c0-1.1-.9-2-2-2zM9 17H7v-7h2v7zm4 0h-2V7h2v10zm4 0h-2v-4h2v4z\"/>\n",
              "    </g>\n",
              "</svg>\n",
              "  </button>\n",
              "\n",
              "<style>\n",
              "  .colab-df-quickchart {\n",
              "      --bg-color: #E8F0FE;\n",
              "      --fill-color: #1967D2;\n",
              "      --hover-bg-color: #E2EBFA;\n",
              "      --hover-fill-color: #174EA6;\n",
              "      --disabled-fill-color: #AAA;\n",
              "      --disabled-bg-color: #DDD;\n",
              "  }\n",
              "\n",
              "  [theme=dark] .colab-df-quickchart {\n",
              "      --bg-color: #3B4455;\n",
              "      --fill-color: #D2E3FC;\n",
              "      --hover-bg-color: #434B5C;\n",
              "      --hover-fill-color: #FFFFFF;\n",
              "      --disabled-bg-color: #3B4455;\n",
              "      --disabled-fill-color: #666;\n",
              "  }\n",
              "\n",
              "  .colab-df-quickchart {\n",
              "    background-color: var(--bg-color);\n",
              "    border: none;\n",
              "    border-radius: 50%;\n",
              "    cursor: pointer;\n",
              "    display: none;\n",
              "    fill: var(--fill-color);\n",
              "    height: 32px;\n",
              "    padding: 0;\n",
              "    width: 32px;\n",
              "  }\n",
              "\n",
              "  .colab-df-quickchart:hover {\n",
              "    background-color: var(--hover-bg-color);\n",
              "    box-shadow: 0 1px 2px rgba(60, 64, 67, 0.3), 0 1px 3px 1px rgba(60, 64, 67, 0.15);\n",
              "    fill: var(--button-hover-fill-color);\n",
              "  }\n",
              "\n",
              "  .colab-df-quickchart-complete:disabled,\n",
              "  .colab-df-quickchart-complete:disabled:hover {\n",
              "    background-color: var(--disabled-bg-color);\n",
              "    fill: var(--disabled-fill-color);\n",
              "    box-shadow: none;\n",
              "  }\n",
              "\n",
              "  .colab-df-spinner {\n",
              "    border: 2px solid var(--fill-color);\n",
              "    border-color: transparent;\n",
              "    border-bottom-color: var(--fill-color);\n",
              "    animation:\n",
              "      spin 1s steps(1) infinite;\n",
              "  }\n",
              "\n",
              "  @keyframes spin {\n",
              "    0% {\n",
              "      border-color: transparent;\n",
              "      border-bottom-color: var(--fill-color);\n",
              "      border-left-color: var(--fill-color);\n",
              "    }\n",
              "    20% {\n",
              "      border-color: transparent;\n",
              "      border-left-color: var(--fill-color);\n",
              "      border-top-color: var(--fill-color);\n",
              "    }\n",
              "    30% {\n",
              "      border-color: transparent;\n",
              "      border-left-color: var(--fill-color);\n",
              "      border-top-color: var(--fill-color);\n",
              "      border-right-color: var(--fill-color);\n",
              "    }\n",
              "    40% {\n",
              "      border-color: transparent;\n",
              "      border-right-color: var(--fill-color);\n",
              "      border-top-color: var(--fill-color);\n",
              "    }\n",
              "    60% {\n",
              "      border-color: transparent;\n",
              "      border-right-color: var(--fill-color);\n",
              "    }\n",
              "    80% {\n",
              "      border-color: transparent;\n",
              "      border-right-color: var(--fill-color);\n",
              "      border-bottom-color: var(--fill-color);\n",
              "    }\n",
              "    90% {\n",
              "      border-color: transparent;\n",
              "      border-bottom-color: var(--fill-color);\n",
              "    }\n",
              "  }\n",
              "</style>\n",
              "\n",
              "  <script>\n",
              "    async function quickchart(key) {\n",
              "      const quickchartButtonEl =\n",
              "        document.querySelector('#' + key + ' button');\n",
              "      quickchartButtonEl.disabled = true;  // To prevent multiple clicks.\n",
              "      quickchartButtonEl.classList.add('colab-df-spinner');\n",
              "      try {\n",
              "        const charts = await google.colab.kernel.invokeFunction(\n",
              "            'suggestCharts', [key], {});\n",
              "      } catch (error) {\n",
              "        console.error('Error during call to suggestCharts:', error);\n",
              "      }\n",
              "      quickchartButtonEl.classList.remove('colab-df-spinner');\n",
              "      quickchartButtonEl.classList.add('colab-df-quickchart-complete');\n",
              "    }\n",
              "    (() => {\n",
              "      let quickchartButtonEl =\n",
              "        document.querySelector('#df-83a31abe-5633-4c61-b6a3-1226c448d966 button');\n",
              "      quickchartButtonEl.style.display =\n",
              "        google.colab.kernel.accessAllowed ? 'block' : 'none';\n",
              "    })();\n",
              "  </script>\n",
              "</div>\n",
              "    </div>\n",
              "  </div>\n"
            ],
            "application/vnd.google.colaboratory.intrinsic+json": {
              "type": "dataframe",
              "variable_name": "defect_class_mask_df",
              "summary": "{\n  \"name\": \"defect_class_mask_df\",\n  \"rows\": 5748,\n  \"fields\": [\n    {\n      \"column\": \"ImageId\",\n      \"properties\": {\n        \"dtype\": \"string\",\n        \"num_unique_values\": 5474,\n        \"samples\": [\n          \"446ba8f9b.jpg\",\n          \"ced4439da.jpg\",\n          \"73122f910.jpg\"\n        ],\n        \"semantic_type\": \"\",\n        \"description\": \"\"\n      }\n    },\n    {\n      \"column\": \"ClassId\",\n      \"properties\": {\n        \"dtype\": \"number\",\n        \"std\": 0,\n        \"min\": 1,\n        \"max\": 4,\n        \"num_unique_values\": 4,\n        \"samples\": [\n          3,\n          2,\n          1\n        ],\n        \"semantic_type\": \"\",\n        \"description\": \"\"\n      }\n    },\n    {\n      \"column\": \"EncodedPixels\",\n      \"properties\": {\n        \"dtype\": \"string\",\n        \"num_unique_values\": 5748,\n        \"samples\": [\n          \"134597 14 134827 40 135057 65 135287 91 135517 117 135747 143 135977 168 136207 194 136449 208 136705 207 136961 207 137217 207 137473 206 137729 206 137985 206 138241 206 138497 205 138753 205 139009 205 139265 204 139521 204 139777 153 140033 51 208897 36 209153 108 209409 179 209665 215 209921 214 210177 214 210433 213 210689 213 210945 212 211201 211 211457 211 211713 210 211969 209 212225 209 212481 208 212737 208 212993 207 213249 155 213505 52 259030 43 259201 128 259372 28885 288321 192 288705 64\",\n          \"261777 7 262033 19 262289 31 262545 37 262801 37 263057 37 263312 38 263568 38 263824 38 264080 38 264336 38 264599 31 264867 19 265135 7\",\n          \"108674 127 108803 254 109059 254 109315 254 109571 254 109827 254 110083 254 110339 254 110595 254 110851 254 111107 254 111363 254 111619 254 111875 254 112131 254 112387 254 112643 254 112899 254 113155 254 113411 254 113667 254 113923 254 114306 127 225537 43 225796 125 226052 210 226308 253 226564 253 226820 253 227076 253 227332 253 227588 253 227844 253 228100 253 228356 253 228612 253 228868 253 229124 253 229380 253 229636 253 229892 253 230148 253 230404 253 230660 253 230916 253 231172 253 231428 253 231684 253 231940 253 232196 210 232452 126 232708 42 248577 64 248833 192 249089 4800 253953 64\"\n        ],\n        \"semantic_type\": \"\",\n        \"description\": \"\"\n      }\n    }\n  ]\n}"
            }
          },
          "metadata": {},
          "execution_count": 39
        }
      ]
    },
    {
      "cell_type": "code",
      "metadata": {
        "id": "OiJTmyEBua4n",
        "colab": {
          "base_uri": "https://localhost:8080/",
          "height": 424
        },
        "outputId": "0c527576-29e4-40ac-977f-653edf97a413"
      },
      "source": [
        "all_images_df"
      ],
      "execution_count": 40,
      "outputs": [
        {
          "output_type": "execute_result",
          "data": {
            "text/plain": [
              "             ImageID  label\n",
              "0      0002cc93b.jpg      1\n",
              "1      0007a71bf.jpg      1\n",
              "2      000a4bcdd.jpg      1\n",
              "3      000f6bf48.jpg      1\n",
              "4      0014fce06.jpg      1\n",
              "...              ...    ...\n",
              "12992  0482ee1d6.jpg      0\n",
              "12993  04802a6c2.jpg      0\n",
              "12994  03ae2bc91.jpg      0\n",
              "12995  04238d7e3.jpg      0\n",
              "12996  023353d24.jpg      0\n",
              "\n",
              "[12997 rows x 2 columns]"
            ],
            "text/html": [
              "\n",
              "  <div id=\"df-528a8081-3a79-42a9-93e8-25375640f091\" class=\"colab-df-container\">\n",
              "    <div>\n",
              "<style scoped>\n",
              "    .dataframe tbody tr th:only-of-type {\n",
              "        vertical-align: middle;\n",
              "    }\n",
              "\n",
              "    .dataframe tbody tr th {\n",
              "        vertical-align: top;\n",
              "    }\n",
              "\n",
              "    .dataframe thead th {\n",
              "        text-align: right;\n",
              "    }\n",
              "</style>\n",
              "<table border=\"1\" class=\"dataframe\">\n",
              "  <thead>\n",
              "    <tr style=\"text-align: right;\">\n",
              "      <th></th>\n",
              "      <th>ImageID</th>\n",
              "      <th>label</th>\n",
              "    </tr>\n",
              "  </thead>\n",
              "  <tbody>\n",
              "    <tr>\n",
              "      <th>0</th>\n",
              "      <td>0002cc93b.jpg</td>\n",
              "      <td>1</td>\n",
              "    </tr>\n",
              "    <tr>\n",
              "      <th>1</th>\n",
              "      <td>0007a71bf.jpg</td>\n",
              "      <td>1</td>\n",
              "    </tr>\n",
              "    <tr>\n",
              "      <th>2</th>\n",
              "      <td>000a4bcdd.jpg</td>\n",
              "      <td>1</td>\n",
              "    </tr>\n",
              "    <tr>\n",
              "      <th>3</th>\n",
              "      <td>000f6bf48.jpg</td>\n",
              "      <td>1</td>\n",
              "    </tr>\n",
              "    <tr>\n",
              "      <th>4</th>\n",
              "      <td>0014fce06.jpg</td>\n",
              "      <td>1</td>\n",
              "    </tr>\n",
              "    <tr>\n",
              "      <th>...</th>\n",
              "      <td>...</td>\n",
              "      <td>...</td>\n",
              "    </tr>\n",
              "    <tr>\n",
              "      <th>12992</th>\n",
              "      <td>0482ee1d6.jpg</td>\n",
              "      <td>0</td>\n",
              "    </tr>\n",
              "    <tr>\n",
              "      <th>12993</th>\n",
              "      <td>04802a6c2.jpg</td>\n",
              "      <td>0</td>\n",
              "    </tr>\n",
              "    <tr>\n",
              "      <th>12994</th>\n",
              "      <td>03ae2bc91.jpg</td>\n",
              "      <td>0</td>\n",
              "    </tr>\n",
              "    <tr>\n",
              "      <th>12995</th>\n",
              "      <td>04238d7e3.jpg</td>\n",
              "      <td>0</td>\n",
              "    </tr>\n",
              "    <tr>\n",
              "      <th>12996</th>\n",
              "      <td>023353d24.jpg</td>\n",
              "      <td>0</td>\n",
              "    </tr>\n",
              "  </tbody>\n",
              "</table>\n",
              "<p>12997 rows × 2 columns</p>\n",
              "</div>\n",
              "    <div class=\"colab-df-buttons\">\n",
              "\n",
              "  <div class=\"colab-df-container\">\n",
              "    <button class=\"colab-df-convert\" onclick=\"convertToInteractive('df-528a8081-3a79-42a9-93e8-25375640f091')\"\n",
              "            title=\"Convert this dataframe to an interactive table.\"\n",
              "            style=\"display:none;\">\n",
              "\n",
              "  <svg xmlns=\"http://www.w3.org/2000/svg\" height=\"24px\" viewBox=\"0 -960 960 960\">\n",
              "    <path d=\"M120-120v-720h720v720H120Zm60-500h600v-160H180v160Zm220 220h160v-160H400v160Zm0 220h160v-160H400v160ZM180-400h160v-160H180v160Zm440 0h160v-160H620v160ZM180-180h160v-160H180v160Zm440 0h160v-160H620v160Z\"/>\n",
              "  </svg>\n",
              "    </button>\n",
              "\n",
              "  <style>\n",
              "    .colab-df-container {\n",
              "      display:flex;\n",
              "      gap: 12px;\n",
              "    }\n",
              "\n",
              "    .colab-df-convert {\n",
              "      background-color: #E8F0FE;\n",
              "      border: none;\n",
              "      border-radius: 50%;\n",
              "      cursor: pointer;\n",
              "      display: none;\n",
              "      fill: #1967D2;\n",
              "      height: 32px;\n",
              "      padding: 0 0 0 0;\n",
              "      width: 32px;\n",
              "    }\n",
              "\n",
              "    .colab-df-convert:hover {\n",
              "      background-color: #E2EBFA;\n",
              "      box-shadow: 0px 1px 2px rgba(60, 64, 67, 0.3), 0px 1px 3px 1px rgba(60, 64, 67, 0.15);\n",
              "      fill: #174EA6;\n",
              "    }\n",
              "\n",
              "    .colab-df-buttons div {\n",
              "      margin-bottom: 4px;\n",
              "    }\n",
              "\n",
              "    [theme=dark] .colab-df-convert {\n",
              "      background-color: #3B4455;\n",
              "      fill: #D2E3FC;\n",
              "    }\n",
              "\n",
              "    [theme=dark] .colab-df-convert:hover {\n",
              "      background-color: #434B5C;\n",
              "      box-shadow: 0px 1px 3px 1px rgba(0, 0, 0, 0.15);\n",
              "      filter: drop-shadow(0px 1px 2px rgba(0, 0, 0, 0.3));\n",
              "      fill: #FFFFFF;\n",
              "    }\n",
              "  </style>\n",
              "\n",
              "    <script>\n",
              "      const buttonEl =\n",
              "        document.querySelector('#df-528a8081-3a79-42a9-93e8-25375640f091 button.colab-df-convert');\n",
              "      buttonEl.style.display =\n",
              "        google.colab.kernel.accessAllowed ? 'block' : 'none';\n",
              "\n",
              "      async function convertToInteractive(key) {\n",
              "        const element = document.querySelector('#df-528a8081-3a79-42a9-93e8-25375640f091');\n",
              "        const dataTable =\n",
              "          await google.colab.kernel.invokeFunction('convertToInteractive',\n",
              "                                                    [key], {});\n",
              "        if (!dataTable) return;\n",
              "\n",
              "        const docLinkHtml = 'Like what you see? Visit the ' +\n",
              "          '<a target=\"_blank\" href=https://colab.research.google.com/notebooks/data_table.ipynb>data table notebook</a>'\n",
              "          + ' to learn more about interactive tables.';\n",
              "        element.innerHTML = '';\n",
              "        dataTable['output_type'] = 'display_data';\n",
              "        await google.colab.output.renderOutput(dataTable, element);\n",
              "        const docLink = document.createElement('div');\n",
              "        docLink.innerHTML = docLinkHtml;\n",
              "        element.appendChild(docLink);\n",
              "      }\n",
              "    </script>\n",
              "  </div>\n",
              "\n",
              "\n",
              "<div id=\"df-c63e7e0a-a850-4cf8-8269-cc5c737b23cc\">\n",
              "  <button class=\"colab-df-quickchart\" onclick=\"quickchart('df-c63e7e0a-a850-4cf8-8269-cc5c737b23cc')\"\n",
              "            title=\"Suggest charts\"\n",
              "            style=\"display:none;\">\n",
              "\n",
              "<svg xmlns=\"http://www.w3.org/2000/svg\" height=\"24px\"viewBox=\"0 0 24 24\"\n",
              "     width=\"24px\">\n",
              "    <g>\n",
              "        <path d=\"M19 3H5c-1.1 0-2 .9-2 2v14c0 1.1.9 2 2 2h14c1.1 0 2-.9 2-2V5c0-1.1-.9-2-2-2zM9 17H7v-7h2v7zm4 0h-2V7h2v10zm4 0h-2v-4h2v4z\"/>\n",
              "    </g>\n",
              "</svg>\n",
              "  </button>\n",
              "\n",
              "<style>\n",
              "  .colab-df-quickchart {\n",
              "      --bg-color: #E8F0FE;\n",
              "      --fill-color: #1967D2;\n",
              "      --hover-bg-color: #E2EBFA;\n",
              "      --hover-fill-color: #174EA6;\n",
              "      --disabled-fill-color: #AAA;\n",
              "      --disabled-bg-color: #DDD;\n",
              "  }\n",
              "\n",
              "  [theme=dark] .colab-df-quickchart {\n",
              "      --bg-color: #3B4455;\n",
              "      --fill-color: #D2E3FC;\n",
              "      --hover-bg-color: #434B5C;\n",
              "      --hover-fill-color: #FFFFFF;\n",
              "      --disabled-bg-color: #3B4455;\n",
              "      --disabled-fill-color: #666;\n",
              "  }\n",
              "\n",
              "  .colab-df-quickchart {\n",
              "    background-color: var(--bg-color);\n",
              "    border: none;\n",
              "    border-radius: 50%;\n",
              "    cursor: pointer;\n",
              "    display: none;\n",
              "    fill: var(--fill-color);\n",
              "    height: 32px;\n",
              "    padding: 0;\n",
              "    width: 32px;\n",
              "  }\n",
              "\n",
              "  .colab-df-quickchart:hover {\n",
              "    background-color: var(--hover-bg-color);\n",
              "    box-shadow: 0 1px 2px rgba(60, 64, 67, 0.3), 0 1px 3px 1px rgba(60, 64, 67, 0.15);\n",
              "    fill: var(--button-hover-fill-color);\n",
              "  }\n",
              "\n",
              "  .colab-df-quickchart-complete:disabled,\n",
              "  .colab-df-quickchart-complete:disabled:hover {\n",
              "    background-color: var(--disabled-bg-color);\n",
              "    fill: var(--disabled-fill-color);\n",
              "    box-shadow: none;\n",
              "  }\n",
              "\n",
              "  .colab-df-spinner {\n",
              "    border: 2px solid var(--fill-color);\n",
              "    border-color: transparent;\n",
              "    border-bottom-color: var(--fill-color);\n",
              "    animation:\n",
              "      spin 1s steps(1) infinite;\n",
              "  }\n",
              "\n",
              "  @keyframes spin {\n",
              "    0% {\n",
              "      border-color: transparent;\n",
              "      border-bottom-color: var(--fill-color);\n",
              "      border-left-color: var(--fill-color);\n",
              "    }\n",
              "    20% {\n",
              "      border-color: transparent;\n",
              "      border-left-color: var(--fill-color);\n",
              "      border-top-color: var(--fill-color);\n",
              "    }\n",
              "    30% {\n",
              "      border-color: transparent;\n",
              "      border-left-color: var(--fill-color);\n",
              "      border-top-color: var(--fill-color);\n",
              "      border-right-color: var(--fill-color);\n",
              "    }\n",
              "    40% {\n",
              "      border-color: transparent;\n",
              "      border-right-color: var(--fill-color);\n",
              "      border-top-color: var(--fill-color);\n",
              "    }\n",
              "    60% {\n",
              "      border-color: transparent;\n",
              "      border-right-color: var(--fill-color);\n",
              "    }\n",
              "    80% {\n",
              "      border-color: transparent;\n",
              "      border-right-color: var(--fill-color);\n",
              "      border-bottom-color: var(--fill-color);\n",
              "    }\n",
              "    90% {\n",
              "      border-color: transparent;\n",
              "      border-bottom-color: var(--fill-color);\n",
              "    }\n",
              "  }\n",
              "</style>\n",
              "\n",
              "  <script>\n",
              "    async function quickchart(key) {\n",
              "      const quickchartButtonEl =\n",
              "        document.querySelector('#' + key + ' button');\n",
              "      quickchartButtonEl.disabled = true;  // To prevent multiple clicks.\n",
              "      quickchartButtonEl.classList.add('colab-df-spinner');\n",
              "      try {\n",
              "        const charts = await google.colab.kernel.invokeFunction(\n",
              "            'suggestCharts', [key], {});\n",
              "      } catch (error) {\n",
              "        console.error('Error during call to suggestCharts:', error);\n",
              "      }\n",
              "      quickchartButtonEl.classList.remove('colab-df-spinner');\n",
              "      quickchartButtonEl.classList.add('colab-df-quickchart-complete');\n",
              "    }\n",
              "    (() => {\n",
              "      let quickchartButtonEl =\n",
              "        document.querySelector('#df-c63e7e0a-a850-4cf8-8269-cc5c737b23cc button');\n",
              "      quickchartButtonEl.style.display =\n",
              "        google.colab.kernel.accessAllowed ? 'block' : 'none';\n",
              "    })();\n",
              "  </script>\n",
              "</div>\n",
              "    </div>\n",
              "  </div>\n"
            ],
            "application/vnd.google.colaboratory.intrinsic+json": {
              "type": "dataframe",
              "variable_name": "all_images_df",
              "summary": "{\n  \"name\": \"all_images_df\",\n  \"rows\": 12997,\n  \"fields\": [\n    {\n      \"column\": \"ImageID\",\n      \"properties\": {\n        \"dtype\": \"string\",\n        \"num_unique_values\": 12568,\n        \"samples\": [\n          \"e8a8676e0.jpg\",\n          \"52faeb955.jpg\",\n          \"b708523c7.jpg\"\n        ],\n        \"semantic_type\": \"\",\n        \"description\": \"\"\n      }\n    },\n    {\n      \"column\": \"label\",\n      \"properties\": {\n        \"dtype\": \"number\",\n        \"std\": 0,\n        \"min\": 0,\n        \"max\": 1,\n        \"num_unique_values\": 2,\n        \"samples\": [\n          0,\n          1\n        ],\n        \"semantic_type\": \"\",\n        \"description\": \"\"\n      }\n    }\n  ]\n}"
            }
          },
          "metadata": {},
          "execution_count": 40
        }
      ]
    },
    {
      "cell_type": "markdown",
      "metadata": {
        "id": "LlszUhNNyrl_"
      },
      "source": [
        "# <ins>**VISUALIZE AND EXPLORE DATASET**"
      ]
    },
    {
      "cell_type": "code",
      "metadata": {
        "id": "ICj3NLbqqmve"
      },
      "source": [
        "defect_class_mask_df['mask'] = defect_class_mask_df['ClassId'].map(lambda x: 1)"
      ],
      "execution_count": 41,
      "outputs": []
    },
    {
      "cell_type": "code",
      "metadata": {
        "id": "0ZomzExDySgb",
        "colab": {
          "base_uri": "https://localhost:8080/",
          "height": 363
        },
        "outputId": "378a9a26-93ea-4158-c6d7-97e0d332d1d2"
      },
      "source": [
        "defect_class_mask_df.head(10)"
      ],
      "execution_count": 43,
      "outputs": [
        {
          "output_type": "execute_result",
          "data": {
            "text/plain": [
              "         ImageId  ClassId                                      EncodedPixels  \\\n",
              "0  d2291de5c.jpg        1  147963 3 148213 9 148461 18 148711 24 148965 2...   \n",
              "1  78416c3d0.jpg        3  54365 3 54621 7 54877 10 55133 12 55388 14 556...   \n",
              "2  2283f2183.jpg        3  201217 43 201473 128 201729 213 201985 5086 20...   \n",
              "3  f0dc068a8.jpg        3  159207 26 159412 77 159617 128 159822 179 1600...   \n",
              "4  00d639396.jpg        3  229356 17 229595 34 229850 36 230105 37 230360...   \n",
              "5  17d02873a.jpg        3  254980 43 255236 127 255492 211 255748 253 256...   \n",
              "6  47b5ab1bd.jpg        3  128976 8 129230 12 129484 16 129739 23 129995 ...   \n",
              "7  a6ecee828.jpg        3  179011 27 179126 73 179259 39 179375 80 179497...   \n",
              "8  11aaf18e2.jpg        3  303235 2 303489 7 303743 9 303997 11 304181 2 ...   \n",
              "9  cdf669a1f.jpg        4  310246 11 310499 25 310753 28 311007 31 311262...   \n",
              "\n",
              "   mask  \n",
              "0     1  \n",
              "1     1  \n",
              "2     1  \n",
              "3     1  \n",
              "4     1  \n",
              "5     1  \n",
              "6     1  \n",
              "7     1  \n",
              "8     1  \n",
              "9     1  "
            ],
            "text/html": [
              "\n",
              "  <div id=\"df-b58e7c83-53d6-445f-8ea9-db9c0491fee5\" class=\"colab-df-container\">\n",
              "    <div>\n",
              "<style scoped>\n",
              "    .dataframe tbody tr th:only-of-type {\n",
              "        vertical-align: middle;\n",
              "    }\n",
              "\n",
              "    .dataframe tbody tr th {\n",
              "        vertical-align: top;\n",
              "    }\n",
              "\n",
              "    .dataframe thead th {\n",
              "        text-align: right;\n",
              "    }\n",
              "</style>\n",
              "<table border=\"1\" class=\"dataframe\">\n",
              "  <thead>\n",
              "    <tr style=\"text-align: right;\">\n",
              "      <th></th>\n",
              "      <th>ImageId</th>\n",
              "      <th>ClassId</th>\n",
              "      <th>EncodedPixels</th>\n",
              "      <th>mask</th>\n",
              "    </tr>\n",
              "  </thead>\n",
              "  <tbody>\n",
              "    <tr>\n",
              "      <th>0</th>\n",
              "      <td>d2291de5c.jpg</td>\n",
              "      <td>1</td>\n",
              "      <td>147963 3 148213 9 148461 18 148711 24 148965 2...</td>\n",
              "      <td>1</td>\n",
              "    </tr>\n",
              "    <tr>\n",
              "      <th>1</th>\n",
              "      <td>78416c3d0.jpg</td>\n",
              "      <td>3</td>\n",
              "      <td>54365 3 54621 7 54877 10 55133 12 55388 14 556...</td>\n",
              "      <td>1</td>\n",
              "    </tr>\n",
              "    <tr>\n",
              "      <th>2</th>\n",
              "      <td>2283f2183.jpg</td>\n",
              "      <td>3</td>\n",
              "      <td>201217 43 201473 128 201729 213 201985 5086 20...</td>\n",
              "      <td>1</td>\n",
              "    </tr>\n",
              "    <tr>\n",
              "      <th>3</th>\n",
              "      <td>f0dc068a8.jpg</td>\n",
              "      <td>3</td>\n",
              "      <td>159207 26 159412 77 159617 128 159822 179 1600...</td>\n",
              "      <td>1</td>\n",
              "    </tr>\n",
              "    <tr>\n",
              "      <th>4</th>\n",
              "      <td>00d639396.jpg</td>\n",
              "      <td>3</td>\n",
              "      <td>229356 17 229595 34 229850 36 230105 37 230360...</td>\n",
              "      <td>1</td>\n",
              "    </tr>\n",
              "    <tr>\n",
              "      <th>5</th>\n",
              "      <td>17d02873a.jpg</td>\n",
              "      <td>3</td>\n",
              "      <td>254980 43 255236 127 255492 211 255748 253 256...</td>\n",
              "      <td>1</td>\n",
              "    </tr>\n",
              "    <tr>\n",
              "      <th>6</th>\n",
              "      <td>47b5ab1bd.jpg</td>\n",
              "      <td>3</td>\n",
              "      <td>128976 8 129230 12 129484 16 129739 23 129995 ...</td>\n",
              "      <td>1</td>\n",
              "    </tr>\n",
              "    <tr>\n",
              "      <th>7</th>\n",
              "      <td>a6ecee828.jpg</td>\n",
              "      <td>3</td>\n",
              "      <td>179011 27 179126 73 179259 39 179375 80 179497...</td>\n",
              "      <td>1</td>\n",
              "    </tr>\n",
              "    <tr>\n",
              "      <th>8</th>\n",
              "      <td>11aaf18e2.jpg</td>\n",
              "      <td>3</td>\n",
              "      <td>303235 2 303489 7 303743 9 303997 11 304181 2 ...</td>\n",
              "      <td>1</td>\n",
              "    </tr>\n",
              "    <tr>\n",
              "      <th>9</th>\n",
              "      <td>cdf669a1f.jpg</td>\n",
              "      <td>4</td>\n",
              "      <td>310246 11 310499 25 310753 28 311007 31 311262...</td>\n",
              "      <td>1</td>\n",
              "    </tr>\n",
              "  </tbody>\n",
              "</table>\n",
              "</div>\n",
              "    <div class=\"colab-df-buttons\">\n",
              "\n",
              "  <div class=\"colab-df-container\">\n",
              "    <button class=\"colab-df-convert\" onclick=\"convertToInteractive('df-b58e7c83-53d6-445f-8ea9-db9c0491fee5')\"\n",
              "            title=\"Convert this dataframe to an interactive table.\"\n",
              "            style=\"display:none;\">\n",
              "\n",
              "  <svg xmlns=\"http://www.w3.org/2000/svg\" height=\"24px\" viewBox=\"0 -960 960 960\">\n",
              "    <path d=\"M120-120v-720h720v720H120Zm60-500h600v-160H180v160Zm220 220h160v-160H400v160Zm0 220h160v-160H400v160ZM180-400h160v-160H180v160Zm440 0h160v-160H620v160ZM180-180h160v-160H180v160Zm440 0h160v-160H620v160Z\"/>\n",
              "  </svg>\n",
              "    </button>\n",
              "\n",
              "  <style>\n",
              "    .colab-df-container {\n",
              "      display:flex;\n",
              "      gap: 12px;\n",
              "    }\n",
              "\n",
              "    .colab-df-convert {\n",
              "      background-color: #E8F0FE;\n",
              "      border: none;\n",
              "      border-radius: 50%;\n",
              "      cursor: pointer;\n",
              "      display: none;\n",
              "      fill: #1967D2;\n",
              "      height: 32px;\n",
              "      padding: 0 0 0 0;\n",
              "      width: 32px;\n",
              "    }\n",
              "\n",
              "    .colab-df-convert:hover {\n",
              "      background-color: #E2EBFA;\n",
              "      box-shadow: 0px 1px 2px rgba(60, 64, 67, 0.3), 0px 1px 3px 1px rgba(60, 64, 67, 0.15);\n",
              "      fill: #174EA6;\n",
              "    }\n",
              "\n",
              "    .colab-df-buttons div {\n",
              "      margin-bottom: 4px;\n",
              "    }\n",
              "\n",
              "    [theme=dark] .colab-df-convert {\n",
              "      background-color: #3B4455;\n",
              "      fill: #D2E3FC;\n",
              "    }\n",
              "\n",
              "    [theme=dark] .colab-df-convert:hover {\n",
              "      background-color: #434B5C;\n",
              "      box-shadow: 0px 1px 3px 1px rgba(0, 0, 0, 0.15);\n",
              "      filter: drop-shadow(0px 1px 2px rgba(0, 0, 0, 0.3));\n",
              "      fill: #FFFFFF;\n",
              "    }\n",
              "  </style>\n",
              "\n",
              "    <script>\n",
              "      const buttonEl =\n",
              "        document.querySelector('#df-b58e7c83-53d6-445f-8ea9-db9c0491fee5 button.colab-df-convert');\n",
              "      buttonEl.style.display =\n",
              "        google.colab.kernel.accessAllowed ? 'block' : 'none';\n",
              "\n",
              "      async function convertToInteractive(key) {\n",
              "        const element = document.querySelector('#df-b58e7c83-53d6-445f-8ea9-db9c0491fee5');\n",
              "        const dataTable =\n",
              "          await google.colab.kernel.invokeFunction('convertToInteractive',\n",
              "                                                    [key], {});\n",
              "        if (!dataTable) return;\n",
              "\n",
              "        const docLinkHtml = 'Like what you see? Visit the ' +\n",
              "          '<a target=\"_blank\" href=https://colab.research.google.com/notebooks/data_table.ipynb>data table notebook</a>'\n",
              "          + ' to learn more about interactive tables.';\n",
              "        element.innerHTML = '';\n",
              "        dataTable['output_type'] = 'display_data';\n",
              "        await google.colab.output.renderOutput(dataTable, element);\n",
              "        const docLink = document.createElement('div');\n",
              "        docLink.innerHTML = docLinkHtml;\n",
              "        element.appendChild(docLink);\n",
              "      }\n",
              "    </script>\n",
              "  </div>\n",
              "\n",
              "\n",
              "<div id=\"df-9cfcb627-f551-4603-b6e8-b294d3ccbd19\">\n",
              "  <button class=\"colab-df-quickchart\" onclick=\"quickchart('df-9cfcb627-f551-4603-b6e8-b294d3ccbd19')\"\n",
              "            title=\"Suggest charts\"\n",
              "            style=\"display:none;\">\n",
              "\n",
              "<svg xmlns=\"http://www.w3.org/2000/svg\" height=\"24px\"viewBox=\"0 0 24 24\"\n",
              "     width=\"24px\">\n",
              "    <g>\n",
              "        <path d=\"M19 3H5c-1.1 0-2 .9-2 2v14c0 1.1.9 2 2 2h14c1.1 0 2-.9 2-2V5c0-1.1-.9-2-2-2zM9 17H7v-7h2v7zm4 0h-2V7h2v10zm4 0h-2v-4h2v4z\"/>\n",
              "    </g>\n",
              "</svg>\n",
              "  </button>\n",
              "\n",
              "<style>\n",
              "  .colab-df-quickchart {\n",
              "      --bg-color: #E8F0FE;\n",
              "      --fill-color: #1967D2;\n",
              "      --hover-bg-color: #E2EBFA;\n",
              "      --hover-fill-color: #174EA6;\n",
              "      --disabled-fill-color: #AAA;\n",
              "      --disabled-bg-color: #DDD;\n",
              "  }\n",
              "\n",
              "  [theme=dark] .colab-df-quickchart {\n",
              "      --bg-color: #3B4455;\n",
              "      --fill-color: #D2E3FC;\n",
              "      --hover-bg-color: #434B5C;\n",
              "      --hover-fill-color: #FFFFFF;\n",
              "      --disabled-bg-color: #3B4455;\n",
              "      --disabled-fill-color: #666;\n",
              "  }\n",
              "\n",
              "  .colab-df-quickchart {\n",
              "    background-color: var(--bg-color);\n",
              "    border: none;\n",
              "    border-radius: 50%;\n",
              "    cursor: pointer;\n",
              "    display: none;\n",
              "    fill: var(--fill-color);\n",
              "    height: 32px;\n",
              "    padding: 0;\n",
              "    width: 32px;\n",
              "  }\n",
              "\n",
              "  .colab-df-quickchart:hover {\n",
              "    background-color: var(--hover-bg-color);\n",
              "    box-shadow: 0 1px 2px rgba(60, 64, 67, 0.3), 0 1px 3px 1px rgba(60, 64, 67, 0.15);\n",
              "    fill: var(--button-hover-fill-color);\n",
              "  }\n",
              "\n",
              "  .colab-df-quickchart-complete:disabled,\n",
              "  .colab-df-quickchart-complete:disabled:hover {\n",
              "    background-color: var(--disabled-bg-color);\n",
              "    fill: var(--disabled-fill-color);\n",
              "    box-shadow: none;\n",
              "  }\n",
              "\n",
              "  .colab-df-spinner {\n",
              "    border: 2px solid var(--fill-color);\n",
              "    border-color: transparent;\n",
              "    border-bottom-color: var(--fill-color);\n",
              "    animation:\n",
              "      spin 1s steps(1) infinite;\n",
              "  }\n",
              "\n",
              "  @keyframes spin {\n",
              "    0% {\n",
              "      border-color: transparent;\n",
              "      border-bottom-color: var(--fill-color);\n",
              "      border-left-color: var(--fill-color);\n",
              "    }\n",
              "    20% {\n",
              "      border-color: transparent;\n",
              "      border-left-color: var(--fill-color);\n",
              "      border-top-color: var(--fill-color);\n",
              "    }\n",
              "    30% {\n",
              "      border-color: transparent;\n",
              "      border-left-color: var(--fill-color);\n",
              "      border-top-color: var(--fill-color);\n",
              "      border-right-color: var(--fill-color);\n",
              "    }\n",
              "    40% {\n",
              "      border-color: transparent;\n",
              "      border-right-color: var(--fill-color);\n",
              "      border-top-color: var(--fill-color);\n",
              "    }\n",
              "    60% {\n",
              "      border-color: transparent;\n",
              "      border-right-color: var(--fill-color);\n",
              "    }\n",
              "    80% {\n",
              "      border-color: transparent;\n",
              "      border-right-color: var(--fill-color);\n",
              "      border-bottom-color: var(--fill-color);\n",
              "    }\n",
              "    90% {\n",
              "      border-color: transparent;\n",
              "      border-bottom-color: var(--fill-color);\n",
              "    }\n",
              "  }\n",
              "</style>\n",
              "\n",
              "  <script>\n",
              "    async function quickchart(key) {\n",
              "      const quickchartButtonEl =\n",
              "        document.querySelector('#' + key + ' button');\n",
              "      quickchartButtonEl.disabled = true;  // To prevent multiple clicks.\n",
              "      quickchartButtonEl.classList.add('colab-df-spinner');\n",
              "      try {\n",
              "        const charts = await google.colab.kernel.invokeFunction(\n",
              "            'suggestCharts', [key], {});\n",
              "      } catch (error) {\n",
              "        console.error('Error during call to suggestCharts:', error);\n",
              "      }\n",
              "      quickchartButtonEl.classList.remove('colab-df-spinner');\n",
              "      quickchartButtonEl.classList.add('colab-df-quickchart-complete');\n",
              "    }\n",
              "    (() => {\n",
              "      let quickchartButtonEl =\n",
              "        document.querySelector('#df-9cfcb627-f551-4603-b6e8-b294d3ccbd19 button');\n",
              "      quickchartButtonEl.style.display =\n",
              "        google.colab.kernel.accessAllowed ? 'block' : 'none';\n",
              "    })();\n",
              "  </script>\n",
              "</div>\n",
              "    </div>\n",
              "  </div>\n"
            ],
            "application/vnd.google.colaboratory.intrinsic+json": {
              "type": "dataframe",
              "variable_name": "defect_class_mask_df",
              "summary": "{\n  \"name\": \"defect_class_mask_df\",\n  \"rows\": 5748,\n  \"fields\": [\n    {\n      \"column\": \"ImageId\",\n      \"properties\": {\n        \"dtype\": \"string\",\n        \"num_unique_values\": 5474,\n        \"samples\": [\n          \"446ba8f9b.jpg\",\n          \"ced4439da.jpg\",\n          \"73122f910.jpg\"\n        ],\n        \"semantic_type\": \"\",\n        \"description\": \"\"\n      }\n    },\n    {\n      \"column\": \"ClassId\",\n      \"properties\": {\n        \"dtype\": \"number\",\n        \"std\": 0,\n        \"min\": 1,\n        \"max\": 4,\n        \"num_unique_values\": 4,\n        \"samples\": [\n          3,\n          2,\n          1\n        ],\n        \"semantic_type\": \"\",\n        \"description\": \"\"\n      }\n    },\n    {\n      \"column\": \"EncodedPixels\",\n      \"properties\": {\n        \"dtype\": \"string\",\n        \"num_unique_values\": 5748,\n        \"samples\": [\n          \"134597 14 134827 40 135057 65 135287 91 135517 117 135747 143 135977 168 136207 194 136449 208 136705 207 136961 207 137217 207 137473 206 137729 206 137985 206 138241 206 138497 205 138753 205 139009 205 139265 204 139521 204 139777 153 140033 51 208897 36 209153 108 209409 179 209665 215 209921 214 210177 214 210433 213 210689 213 210945 212 211201 211 211457 211 211713 210 211969 209 212225 209 212481 208 212737 208 212993 207 213249 155 213505 52 259030 43 259201 128 259372 28885 288321 192 288705 64\",\n          \"261777 7 262033 19 262289 31 262545 37 262801 37 263057 37 263312 38 263568 38 263824 38 264080 38 264336 38 264599 31 264867 19 265135 7\",\n          \"108674 127 108803 254 109059 254 109315 254 109571 254 109827 254 110083 254 110339 254 110595 254 110851 254 111107 254 111363 254 111619 254 111875 254 112131 254 112387 254 112643 254 112899 254 113155 254 113411 254 113667 254 113923 254 114306 127 225537 43 225796 125 226052 210 226308 253 226564 253 226820 253 227076 253 227332 253 227588 253 227844 253 228100 253 228356 253 228612 253 228868 253 229124 253 229380 253 229636 253 229892 253 230148 253 230404 253 230660 253 230916 253 231172 253 231428 253 231684 253 231940 253 232196 210 232452 126 232708 42 248577 64 248833 192 249089 4800 253953 64\"\n        ],\n        \"semantic_type\": \"\",\n        \"description\": \"\"\n      }\n    },\n    {\n      \"column\": \"mask\",\n      \"properties\": {\n        \"dtype\": \"number\",\n        \"std\": 0,\n        \"min\": 1,\n        \"max\": 1,\n        \"num_unique_values\": 1,\n        \"samples\": [\n          1\n        ],\n        \"semantic_type\": \"\",\n        \"description\": \"\"\n      }\n    }\n  ]\n}"
            }
          },
          "metadata": {},
          "execution_count": 43
        }
      ]
    },
    {
      "cell_type": "code",
      "metadata": {
        "id": "sddcLXnFzMAy"
      },
      "source": [],
      "execution_count": 4,
      "outputs": []
    },
    {
      "cell_type": "code",
      "metadata": {
        "id": "za48tcXcx1FS"
      },
      "source": [
        "# Some images are classified with more than one defect, let's explore this futher\n",
        "# we have one image with 3 types of defects\n",
        "# we have 272 images with 2 types of defects\n",
        "# we have 5201 images with 1 type of defect\n",
        "\n"
      ],
      "execution_count": 5,
      "outputs": []
    },
    {
      "cell_type": "code",
      "metadata": {
        "id": "R4g-1HFErAUW"
      },
      "source": [],
      "execution_count": 5,
      "outputs": []
    },
    {
      "cell_type": "code",
      "metadata": {
        "id": "qlKDGvA7rVVL"
      },
      "source": [],
      "execution_count": 5,
      "outputs": []
    },
    {
      "cell_type": "code",
      "metadata": {
        "id": "Yhm-Y9Tlx1H_"
      },
      "source": [],
      "execution_count": 5,
      "outputs": []
    },
    {
      "cell_type": "code",
      "metadata": {
        "id": "W0QetIIS0ekU"
      },
      "source": [],
      "execution_count": 5,
      "outputs": []
    },
    {
      "cell_type": "code",
      "metadata": {
        "id": "9iYFwJtG0em_"
      },
      "source": [],
      "execution_count": 5,
      "outputs": []
    },
    {
      "cell_type": "code",
      "metadata": {
        "id": "ZtK2Dozi0epR"
      },
      "source": [
        "# Let's count defective and non defective images\n"
      ],
      "execution_count": 6,
      "outputs": []
    },
    {
      "cell_type": "code",
      "metadata": {
        "id": "Wug5WIimucRM"
      },
      "source": [],
      "execution_count": 6,
      "outputs": []
    },
    {
      "cell_type": "code",
      "metadata": {
        "id": "Tpb9SQ-W0tfu"
      },
      "source": [
        "# Visualize images with defects along with their corresponding labels\n",
        "# Images are 256 x 1600"
      ],
      "execution_count": 7,
      "outputs": []
    },
    {
      "cell_type": "code",
      "metadata": {
        "id": "SQ7GMxpy6fgd"
      },
      "source": [
        "\n",
        "\n"
      ],
      "execution_count": 7,
      "outputs": []
    },
    {
      "cell_type": "code",
      "metadata": {
        "id": "1uIpuNYz75is"
      },
      "source": [],
      "execution_count": 7,
      "outputs": []
    },
    {
      "cell_type": "code",
      "metadata": {
        "id": "Px2F3RkW8lP-"
      },
      "source": [
        "# Let's try to use the rle2mask on a sample image\n"
      ],
      "execution_count": 8,
      "outputs": []
    },
    {
      "cell_type": "code",
      "metadata": {
        "id": "uHeb7j-486d8"
      },
      "source": [
        "# Let's show the mask\n"
      ],
      "execution_count": 9,
      "outputs": []
    },
    {
      "cell_type": "code",
      "metadata": {
        "id": "MRNgXKF98_y6"
      },
      "source": [],
      "execution_count": 9,
      "outputs": []
    },
    {
      "cell_type": "code",
      "metadata": {
        "id": "ZDZhajOg6flc"
      },
      "source": [
        "\n"
      ],
      "execution_count": 9,
      "outputs": []
    },
    {
      "cell_type": "markdown",
      "metadata": {
        "id": "a6SI58F7ySeh"
      },
      "source": [
        "# <ins>**UNDERSTAND THE THEORY AND INTUITION BEHIND CONVOLUTIONAL NEURAL NETWORKS, RESNETS, AND TRANSFER LEARNING**"
      ]
    },
    {
      "cell_type": "markdown",
      "metadata": {
        "id": "CijMDQ9RsWpb"
      },
      "source": [
        "![alt text](https://drive.google.com/uc?id=1HD2FFDD8fonGMyHARfw8ZqaofP3Udek6)"
      ]
    },
    {
      "cell_type": "markdown",
      "metadata": {
        "id": "BhmMxX-LtXkx"
      },
      "source": [
        "![alt text](https://drive.google.com/uc?id=1-HAo3xcPKGoH-gG8495p12o33nUC1j6W)"
      ]
    },
    {
      "cell_type": "markdown",
      "metadata": {
        "id": "I6sP5t2vt5dc"
      },
      "source": [
        "![alt text](https://drive.google.com/uc?id=1zmzg777lS1PGkTyJXA5fPmrJ9mcKneDi)"
      ]
    },
    {
      "cell_type": "markdown",
      "metadata": {
        "id": "7QbYOy9Xt5aa"
      },
      "source": [
        "\n",
        "## <ins>**TRANSFER LEARNING TRAINING STRATEGIES**\n",
        "+ **Strategy #1 Steps:**\n",
        "  + Freeze the trained CNN network weights from the first layers.\n",
        "  + Only train the newly added dense layers (with randomly initialized weights).\n",
        "+ **Strategy #2 Steps:**\n",
        "  + Initialize the CNN network with the pre-trained weights\n",
        "  + Retrain the entire CNN network while setting the learning rate to be very small, this is critical to ensure that you do not aggressively change the trained weights.\n",
        "+ **Transfer learning advantages are:**\n",
        "  + Provides fast training progress, you don't have to start from scratch using randomly initialized weights\n",
        "  + You can use small training dataset to achieve incredible results"
      ]
    },
    {
      "cell_type": "markdown",
      "metadata": {
        "id": "QRSLmofOqJ2X"
      },
      "source": [
        "# <ins>**BUILD AND TRAIN A DEEP LEARNING MODEL TO DETECT WHETHER A DEFECT IS PRESENT IN AN IMAGE OR NOT**"
      ]
    },
    {
      "cell_type": "code",
      "metadata": {
        "id": "RejG3T3yGP5b"
      },
      "source": [],
      "execution_count": 9,
      "outputs": []
    },
    {
      "cell_type": "code",
      "metadata": {
        "id": "obGUGKgs0NJB"
      },
      "source": [
        "# split the data (defective and non defective) into training and testing"
      ],
      "execution_count": 10,
      "outputs": []
    },
    {
      "cell_type": "code",
      "metadata": {
        "id": "Jy6vCw-GGZrP"
      },
      "source": [],
      "execution_count": 10,
      "outputs": []
    },
    {
      "cell_type": "code",
      "metadata": {
        "id": "79ethEGBGZpJ"
      },
      "source": [],
      "execution_count": 10,
      "outputs": []
    },
    {
      "cell_type": "code",
      "metadata": {
        "id": "2QEOhBwtIKVv"
      },
      "source": [],
      "execution_count": 10,
      "outputs": []
    },
    {
      "cell_type": "code",
      "metadata": {
        "id": "o2JD_rBGGZmg"
      },
      "source": [
        "# create a image generator for the training and validation dataset\n",
        "# we will divide the data to training, validation and testing\n",
        "# Training = 9390\n",
        "# validation = 1657\n",
        "# testing = 1950\n",
        "\n",
        "\n",
        "# Create a data generator which scales the data from 0 to 1 and makes validation split of 0.15\n"
      ],
      "execution_count": 11,
      "outputs": []
    },
    {
      "cell_type": "code",
      "metadata": {
        "id": "nHpRFqN3HYZ8"
      },
      "source": [
        "# Create a data generator for test images\n",
        "\n"
      ],
      "execution_count": 12,
      "outputs": []
    },
    {
      "cell_type": "code",
      "metadata": {
        "id": "8zq7zMBexYsV"
      },
      "source": [],
      "execution_count": 12,
      "outputs": []
    },
    {
      "cell_type": "code",
      "metadata": {
        "id": "dBVhEydjxYkb"
      },
      "source": [],
      "execution_count": 12,
      "outputs": []
    },
    {
      "cell_type": "code",
      "metadata": {
        "id": "IAXdldnsxYah"
      },
      "source": [
        "# freeze the model weights\n"
      ],
      "execution_count": 13,
      "outputs": []
    },
    {
      "cell_type": "code",
      "metadata": {
        "id": "jMB7E5Tkxetp"
      },
      "source": [
        "\n"
      ],
      "execution_count": 13,
      "outputs": []
    },
    {
      "cell_type": "code",
      "metadata": {
        "id": "tXcaYKyvxepG"
      },
      "source": [],
      "execution_count": 13,
      "outputs": []
    },
    {
      "cell_type": "code",
      "metadata": {
        "id": "NtIYCa5CxiCf"
      },
      "source": [
        "# use early stopping to exit training if validation loss is not decreasing even after certain epochs (patience)\n",
        "\n",
        "\n",
        "# save the best model with least validation loss\n"
      ],
      "execution_count": 14,
      "outputs": []
    },
    {
      "cell_type": "code",
      "metadata": {
        "id": "aTmjUR8GxiBI"
      },
      "source": [
        "# (WARNING TAKES LONG TIME (~90 mins)!)"
      ],
      "execution_count": 15,
      "outputs": []
    },
    {
      "cell_type": "code",
      "metadata": {
        "id": "C2p7vb4Cxh8g"
      },
      "source": [
        "# save the trained model architecture for future use"
      ],
      "execution_count": 16,
      "outputs": []
    },
    {
      "cell_type": "markdown",
      "metadata": {
        "id": "Y95MPj3m5Tr1"
      },
      "source": [
        "# <ins>**ASSESS TRAINED MODEL PERFORMANCE**"
      ]
    },
    {
      "cell_type": "code",
      "metadata": {
        "id": "A_yya7-p5YsJ"
      },
      "source": [],
      "execution_count": 16,
      "outputs": []
    },
    {
      "cell_type": "code",
      "metadata": {
        "id": "p-OlLg_a5YoH"
      },
      "source": [
        "# Make prediction (WARNING TAKES LONG TIME (~10 mins)!)\n",
        "\n"
      ],
      "execution_count": 17,
      "outputs": []
    },
    {
      "cell_type": "code",
      "metadata": {
        "id": "kA8Fi1Dy9qfZ"
      },
      "source": [],
      "execution_count": 17,
      "outputs": []
    },
    {
      "cell_type": "code",
      "metadata": {
        "id": "cWNMOYCX5fGI"
      },
      "source": [
        "# Since we have used sigmoid activation at the end, our result would contain continuous values from 0 to 1.\n",
        "# The network is initially used to classify whether the image has defect or not\n",
        "# Then these images (defective) is passed through the segmentation network to get the localization and type of defect.\n",
        "# Let's choose 0.01, to make sure, that we omit images from passing through the segmentation network only we are highly certain that it has no defect and if we are not confident, we can pass this image through the segmentation\n",
        "# network\n"
      ],
      "execution_count": 18,
      "outputs": []
    },
    {
      "cell_type": "code",
      "metadata": {
        "id": "vQFWSO2f5fCS"
      },
      "source": [],
      "execution_count": 18,
      "outputs": []
    },
    {
      "cell_type": "code",
      "metadata": {
        "id": "4vtRFZV_5iJ6"
      },
      "source": [
        "# since we have used test generator, it limited the images to 1936, due to batch size\n",
        "\n"
      ],
      "execution_count": 19,
      "outputs": []
    },
    {
      "cell_type": "code",
      "metadata": {
        "id": "AvCW0Lhn5iIg"
      },
      "source": [
        "# Find the accuracy of the model\n"
      ],
      "execution_count": 20,
      "outputs": []
    },
    {
      "cell_type": "code",
      "metadata": {
        "id": "hrnla_fW5iE5"
      },
      "source": [
        "# Plot the confusion matrix\n"
      ],
      "execution_count": 21,
      "outputs": []
    },
    {
      "cell_type": "code",
      "metadata": {
        "id": "L5Ai_jO35oJh"
      },
      "source": [
        "# Print the classification report\n"
      ],
      "execution_count": 22,
      "outputs": []
    },
    {
      "cell_type": "markdown",
      "metadata": {
        "id": "Y0GmpAjG3GiH"
      },
      "source": [
        "# <ins>**UNDERSTAND THE THEORY AND INTUITION BEHIND RESUNET (SEGMENTATION)**"
      ]
    },
    {
      "cell_type": "markdown",
      "metadata": {
        "id": "0Vi1_uJvu7n7"
      },
      "source": [
        "![alt text](https://drive.google.com/uc?id=1D7mAjdEFv6cIb4UFiXwndJy6enzZQzpb)"
      ]
    },
    {
      "cell_type": "markdown",
      "metadata": {
        "id": "vlZRIwoy1DtF"
      },
      "source": [
        "![alt text](https://drive.google.com/uc?id=1TK1Y9gry62NORdA-EjWD8HJadBZMa_sL)"
      ]
    },
    {
      "cell_type": "markdown",
      "metadata": {
        "id": "TcsK2k-Ev5sF"
      },
      "source": [
        "## <ins>**RESUNET ARCHITECTURE:**\n",
        "1. Encoder or contracting path consist of 4 blocks:\n",
        "  + First block consists of 3×3 convolution layer + Relu + Batch-Normalization\n",
        "  + Remaining three blocks consist of Res-blocks followed by\n",
        "Max-pooling 2x2.\n",
        "2. Bottleneck:\n",
        "  + It is in-between the contracting and expanding path.\n",
        "  + It consist of Res-block followed by up sampling conv layer\n",
        "2x2.\n",
        "3. Expanding or Decoder path consist of 4 blocks:\n",
        "  + 3 blocks following bottleneck consist of Res-blocks followed by up-sampling conv layer 2 x 2\n",
        "  + Final block consist of Res-block followed by 1x1 conv layer.\n",
        "\n",
        "\n",
        "## **RESUNET ADDITIONAL RESOURCES:**\n",
        "\n",
        "Paper #1: https://arxiv.org/abs/1505.04597\n",
        "\n",
        "\n",
        "Paper #2: https://arxiv.org/abs/1904.00592\n",
        "\n",
        "\n",
        "\n",
        "https://aditi-mittal.medium.com/introduction-to-u-net-and-res-net-for-image-segmentation-9afcb432ee2f\n"
      ]
    },
    {
      "cell_type": "markdown",
      "metadata": {
        "id": "FKh1zdDx4_RH"
      },
      "source": [
        "# <ins>**BUILD A RESUNET SEGMENTATION MODEL**"
      ]
    },
    {
      "cell_type": "code",
      "metadata": {
        "id": "ASMCztGD5GXC"
      },
      "source": [
        "#spliting the data into train and test data\n"
      ],
      "execution_count": 23,
      "outputs": []
    },
    {
      "cell_type": "code",
      "metadata": {
        "id": "1x--wEew7fUP"
      },
      "source": [
        "#creating separate list for imageId, classId and rle to pass into the generator"
      ],
      "execution_count": 24,
      "outputs": []
    },
    {
      "cell_type": "code",
      "metadata": {
        "id": "DHxamV1l7fhs"
      },
      "source": [
        "\n"
      ],
      "execution_count": 24,
      "outputs": []
    },
    {
      "cell_type": "code",
      "metadata": {
        "id": "86T07x_-7fns"
      },
      "source": [],
      "execution_count": 24,
      "outputs": []
    },
    {
      "cell_type": "code",
      "metadata": {
        "id": "VCatuc5N7fck"
      },
      "source": [
        "# function to upscale and concatnating the values passsed"
      ],
      "execution_count": 25,
      "outputs": []
    },
    {
      "cell_type": "code",
      "metadata": {
        "id": "OjBTBsj67l8s"
      },
      "source": [
        "\n"
      ],
      "execution_count": 25,
      "outputs": []
    },
    {
      "cell_type": "markdown",
      "metadata": {
        "id": "N-ipz-N_8ftR"
      },
      "source": [
        "## Loss function:\n",
        "\n",
        "We need a custom loss function to train this ResUNet.So,  we have used the loss function as it is from https://github.com/nabsabraham/focal-tversky-unet/blob/master/losses.py\n",
        "\n",
        "\n",
        "@article{focal-unet,\n",
        "  title={A novel Focal Tversky loss function with improved Attention U-Net for lesion segmentation},\n",
        "  author={Abraham, Nabila and Khan, Naimul Mefraz},\n",
        "  journal={arXiv preprint arXiv:1810.07842},\n",
        "  year={2018}\n",
        "}"
      ]
    },
    {
      "cell_type": "code",
      "metadata": {
        "id": "5t8rk_wY7l3O"
      },
      "source": [],
      "execution_count": 25,
      "outputs": []
    },
    {
      "cell_type": "code",
      "metadata": {
        "id": "xHrYV3wU8llA"
      },
      "source": [],
      "execution_count": 25,
      "outputs": []
    },
    {
      "cell_type": "code",
      "metadata": {
        "id": "ykx7wl658lj4"
      },
      "source": [
        "# using early stopping to exit training if validation loss is not decreasing even after certain epochs (patience)\n",
        "\n",
        "# save the best model with lower validation loss\n"
      ],
      "execution_count": 26,
      "outputs": []
    },
    {
      "cell_type": "code",
      "metadata": {
        "id": "A_lmECI58le6"
      },
      "source": [],
      "execution_count": 26,
      "outputs": []
    },
    {
      "cell_type": "code",
      "metadata": {
        "id": "jwz9H_Xi8rCb"
      },
      "source": [
        "# save the model for future use\n"
      ],
      "execution_count": 27,
      "outputs": []
    },
    {
      "cell_type": "markdown",
      "metadata": {
        "id": "KCnoC_QY9LNa"
      },
      "source": [
        "# <ins>**ASSESS TRAINED SEGMENTATION MODEL PERFORMANCE**"
      ]
    },
    {
      "cell_type": "code",
      "metadata": {
        "id": "P16wn7yh9jtN"
      },
      "source": [],
      "execution_count": 27,
      "outputs": []
    },
    {
      "cell_type": "code",
      "metadata": {
        "id": "-1_9kk6rXMVS"
      },
      "source": [
        "# data containing test images for segmentation task\n",
        "\n"
      ],
      "execution_count": 28,
      "outputs": []
    },
    {
      "cell_type": "code",
      "metadata": {
        "id": "0TlBCIckXMTZ"
      },
      "source": [],
      "execution_count": 28,
      "outputs": []
    },
    {
      "cell_type": "code",
      "metadata": {
        "id": "dVFRKgBujup0"
      },
      "source": [],
      "execution_count": 28,
      "outputs": []
    },
    {
      "cell_type": "code",
      "metadata": {
        "id": "vEICzTHWXMRZ"
      },
      "source": [],
      "execution_count": 28,
      "outputs": []
    },
    {
      "cell_type": "code",
      "metadata": {
        "id": "Q8flvRPFXPdw"
      },
      "source": [
        "# create a dataframe for the result"
      ],
      "execution_count": 29,
      "outputs": []
    },
    {
      "cell_type": "code",
      "metadata": {
        "id": "HE4c8jZ4XPiQ"
      },
      "source": [
        "# Let's show the images along with their original (ground truth) masks\n"
      ],
      "execution_count": 30,
      "outputs": []
    },
    {
      "cell_type": "code",
      "metadata": {
        "id": "3yIWeyObXPnA"
      },
      "source": [
        "# visualize the results (model predictions)"
      ],
      "execution_count": 31,
      "outputs": []
    }
  ]
}