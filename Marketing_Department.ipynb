{
  "nbformat": 4,
  "nbformat_minor": 0,
  "metadata": {
    "colab": {
      "provenance": [],
      "include_colab_link": true
    },
    "kernelspec": {
      "name": "python3",
      "display_name": "Python 3"
    }
  },
  "cells": [
    {
      "cell_type": "markdown",
      "metadata": {
        "id": "view-in-github",
        "colab_type": "text"
      },
      "source": [
        "<a href=\"https://colab.research.google.com/github/FemiAdesola/Data-Science/blob/main/Marketing_Department.ipynb\" target=\"_parent\"><img src=\"https://colab.research.google.com/assets/colab-badge.svg\" alt=\"Open In Colab\"/></a>"
      ]
    },
    {
      "cell_type": "markdown",
      "metadata": {
        "id": "M27qF7CTrBqc"
      },
      "source": [
        "# <ins>**For UNDERSTANDing THE PROBLEM STATEMENT AND BUSINESS CASE**"
      ]
    },
    {
      "cell_type": "markdown",
      "metadata": {
        "id": "Z2ZMlH-gtOxf"
      },
      "source": [
        "\n",
        "<table>\n",
        "  <tr><td>\n",
        "    <img src=\"https://drive.google.com/uc?id=1OjWCpwRHlCSNYaJoUUd2QGryT9CoQJ5e\"\n",
        "         alt=\"Fashion MNIST sprite\"  width=\"1000\">\n",
        "  </td></tr>\n",
        "  <tr><td align=\"center\">\n",
        "    <b>Figure 1. Customers Segmentation\n",
        "  </td></tr>\n",
        "</table>\n"
      ]
    },
    {
      "cell_type": "markdown",
      "metadata": {
        "id": "yz94HFrMh28F"
      },
      "source": [
        "## <ins>**Marketing Data analysis**\n",
        "+ Marketing is crucial for the growth and sustainability of any business.\n",
        "+ Marketers can help build the company's brand, engage customers, grow revenue, and increase sales.\n",
        "\n",
        "+ GROWTH\n",
        "  + (Marketers empower business growth by reaching new customers)\n",
        "+ EDUCATION\n",
        "  + (Marketers educate and communicate value proposition to customers)\n",
        "\n",
        "+ DRIVE SALES\n",
        "  + (Marketers drive sales and traffic to products/services)\n",
        "+ ENGAGEMENT\n",
        "  + (Marketers engage customers and understand their needs)\n",
        "\n",
        "### <ins>**Pain point for marketer**\n",
        "+ One of the key pain points for marketers is to know their customers and identify their needs.\n",
        "+ By understanding the customer, marketers can launch a targeted marketing campaign that is tailored for specific needs.\n",
        "+ If data about the customers is available, data science can be applied to perform market segmentation.\n",
        "\n",
        "## <ins>**The case study**\n",
        "In this case study,you have been hired as a consultant to a banking New York City.\n",
        "+ The bank has extensive data on their customers for the past 6 months.\n",
        "+ The marketing team at the bank wants to launch a targeted ad marketing campaign by dividing their customers into at least 3 distinctive groups.\n",
        "\n",
        "## <ins>**The key features in the banking sector**\n",
        "+ **CUSTID**: Identification of Credit Card holder\n",
        "+ **BALANCE**: Balance amount left in customer's accountto make purchases\n",
        "+ **BALANCE_FREQUENCY**: How frequently the Balance is\n",
        "updated, score between 0 and 1(1 = frequently updated, 0 = not frequently updated)\n",
        "+ **PURCHASES**: Amount of purchases made from account\n",
        "+ **ONEOFFPURCHASES**: Maximum purchase amount done in one-go\n",
        "+ **INSTALLMENTS_PURCHASES**: Amount of purchase done in installment\n",
        "+ **CASH_ADVANCE**: Cash in advance given by the user\n",
        "+ **PURCHASES_FREQUENCY**: How frequently the Purchases are being made, score between 0 and 1(1 = frequently purchased, 0 = not frequently purchased)\n",
        "\n",
        "+ **PURCHASES_FREQUENCY**: How frequently the Purchases are being made, score between O and1(1 = frequently purchased, o = not frequently purchased)\n",
        "+ **ONEOFF_PURCHASES_FREQUENCY**: How frequently Purchases are happening in one-go (1 = frequently purchased, 0 = not frequently p\n",
        "urchased)\n",
        "+ **PURCHASES_INSTALLMENTS_FREQUENCY**:How frequently purchases in installments are being done (1 = frequently done, 0 = not frequent\n",
        "ly done)\n",
        "+ **CASH ADVANCE FREQUENCY**: How frequentlythe cash in advance being paid\n",
        "\n",
        "+ **CASH_ADVANCE_TRX**:Numberof Transactions made with \"CashinAdvance\"\n",
        "+ **PURCHASES_TRX**: Number of purchase transactionsmade\n",
        "+ **CREDIT LIMIT**: Limitof CreditCard for user\n",
        "+ **PAYMENTS**: Amountof Paymentdone by user\n",
        "+ **MINIMUM PAYMENTS**: Minimum amount of payments madeby user\n",
        "+ **PRC_FULL_PAYMENT**: Percent of full payment paid byuser\n",
        "+ **TENURE**: Tenure of credit card service for user"
      ]
    },
    {
      "cell_type": "markdown",
      "metadata": {
        "id": "G6tcZoAqIBS4"
      },
      "source": [
        "Data Source: https://www.kaggle.com/arjunbhasin2013/ccdata"
      ]
    },
    {
      "cell_type": "markdown",
      "metadata": {
        "id": "zKmFmyaGunc7"
      },
      "source": [
        "# <ins>**IMPORT LIBRARIES AND DATASETS**"
      ]
    },
    {
      "cell_type": "code",
      "metadata": {
        "id": "S0Cx3743urFY"
      },
      "source": [
        "import pandas as pd\n",
        "import numpy as np\n",
        "import seaborn as sns\n",
        "import matplotlib.pyplot as plt\n",
        "from sklearn.preprocessing import StandardScaler, normalize\n",
        "from sklearn.cluster import KMeans\n",
        "from sklearn.decomposition import PCA\n"
      ],
      "execution_count": 1,
      "outputs": []
    },
    {
      "cell_type": "code",
      "metadata": {
        "id": "5P_ciLXawMZg",
        "outputId": "fe5f2ba4-3cc1-4696-bbcf-8a9cda375cfa",
        "colab": {
          "base_uri": "https://localhost:8080/"
        }
      },
      "source": [
        "\n",
        "from google.colab import drive\n",
        "drive.mount('/content/drive')"
      ],
      "execution_count": 2,
      "outputs": [
        {
          "output_type": "stream",
          "name": "stdout",
          "text": [
            "Mounted at /content/drive\n"
          ]
        }
      ]
    },
    {
      "cell_type": "code",
      "source": [
        "# You have to include the full link to the csv file containing your dataset\n",
        "employee_df = pd.read_csv('/content/drive/My Drive/Colab Notebooks/Marketing-data.csv')"
      ],
      "metadata": {
        "id": "rhpBHLEZUOot"
      },
      "execution_count": 3,
      "outputs": []
    },
    {
      "cell_type": "code",
      "metadata": {
        "id": "tjIiJdM4u1IE"
      },
      "source": [
        "# You have to include the full link to the csv file containing your dataset\n",
        "\n",
        "# CUSTID: Identification of Credit Card holder\n",
        "# BALANCE: Balance amount left in customer's account to make purchases\n",
        "# BALANCE_FREQUENCY: How frequently the Balance is updated, score between 0 and 1 (1 = frequently updated, 0 = not frequently updated)\n",
        "# PURCHASES: Amount of purchases made from account\n",
        "# ONEOFFPURCHASES: Maximum purchase amount done in one-go\n",
        "# INSTALLMENTS_PURCHASES: Amount of purchase done in installment\n",
        "# CASH_ADVANCE: Cash in advance given by the user\n",
        "# PURCHASES_FREQUENCY: How frequently the Purchases are being made, score between 0 and 1 (1 = frequently purchased, 0 = not frequently purchased)\n",
        "# ONEOFF_PURCHASES_FREQUENCY: How frequently Purchases are happening in one-go (1 = frequently purchased, 0 = not frequently purchased)\n",
        "# PURCHASES_INSTALLMENTS_FREQUENCY: How frequently purchases in installments are being done (1 = frequently done, 0 = not frequently done)\n",
        "# CASH_ADVANCE_FREQUENCY: How frequently the cash in advance being paid\n",
        "# CASH_ADVANCE_TRX: Number of Transactions made with \"Cash in Advance\"\n",
        "# PURCHASES_TRX: Number of purchase transactions made\n",
        "# CREDIT_LIMIT: Limit of Credit Card for user\n",
        "# PAYMENTS: Amount of Payment done by user\n",
        "# MINIMUM_PAYMENTS: Minimum amount of payments made by user\n",
        "# PRC_FULL_PAYMENT: Percent of full payment paid by user\n",
        "# TENURE: Tenure of credit card service for user"
      ],
      "execution_count": 4,
      "outputs": []
    },
    {
      "cell_type": "code",
      "metadata": {
        "id": "s0E9xPLdx2Ok"
      },
      "source": [
        "# Mean balance is $1564\n",
        "# Balance frequency is frequently updated on average ~0.9\n",
        "# Purchases average is $1000\n",
        "# one off purchase average is ~$600\n",
        "# Average purchases frequency is around 0.5\n",
        "# average ONEOFF_PURCHASES_FREQUENCY, PURCHASES_INSTALLMENTS_FREQUENCY, and CASH_ADVANCE_FREQUENCY are generally low\n",
        "# Average credit limit ~ 4500\n",
        "# Percent of full payment is 15%\n",
        "# Average tenure is 11 years"
      ],
      "execution_count": 5,
      "outputs": []
    },
    {
      "cell_type": "code",
      "metadata": {
        "id": "MA5bKvr7KxI8"
      },
      "source": [
        "# Let's see who made one off purchase of $40761!\n"
      ],
      "execution_count": 6,
      "outputs": []
    },
    {
      "cell_type": "code",
      "metadata": {
        "id": "RBiutRGLL9HH"
      },
      "source": [],
      "execution_count": 6,
      "outputs": []
    },
    {
      "cell_type": "code",
      "metadata": {
        "id": "FAIfPnCLLnjw"
      },
      "source": [
        "# Let's see who made cash advance of $47137!\n",
        "# This customer made 123 cash advance transactions!!\n",
        "# Never paid credit card in full\n",
        "\n"
      ],
      "execution_count": 7,
      "outputs": []
    },
    {
      "cell_type": "markdown",
      "metadata": {
        "id": "LlszUhNNyrl_"
      },
      "source": [
        "# TASK #3: VISUALIZE AND EXPLORE DATASET"
      ]
    },
    {
      "cell_type": "code",
      "metadata": {
        "id": "ICj3NLbqqmve"
      },
      "source": [
        "# Let's see if we have any missing data, luckily we don't!\n"
      ],
      "execution_count": 8,
      "outputs": []
    },
    {
      "cell_type": "code",
      "metadata": {
        "id": "70XopgWwMmHG"
      },
      "source": [],
      "execution_count": 8,
      "outputs": []
    },
    {
      "cell_type": "code",
      "metadata": {
        "id": "wboxbIPwT7Wi"
      },
      "source": [
        "# Fill up the missing elements with mean of the 'MINIMUM_PAYMENT'\n"
      ],
      "execution_count": 9,
      "outputs": []
    },
    {
      "cell_type": "code",
      "metadata": {
        "id": "ciOq-cYxMw8P"
      },
      "source": [
        "# Fill up the missing elements with mean of the 'CREDIT_LIMIT'\n"
      ],
      "execution_count": 10,
      "outputs": []
    },
    {
      "cell_type": "code",
      "metadata": {
        "id": "H-c9kqOSUU1t"
      },
      "source": [],
      "execution_count": 10,
      "outputs": []
    },
    {
      "cell_type": "code",
      "metadata": {
        "id": "zFIXGFrucdCl"
      },
      "source": [
        "# Let's see if we have duplicated entries in the data\n"
      ],
      "execution_count": 11,
      "outputs": []
    },
    {
      "cell_type": "code",
      "metadata": {
        "id": "onSLJRBtcohW"
      },
      "source": [
        "# Let's drop Customer ID since it has no meaning here\n"
      ],
      "execution_count": 12,
      "outputs": []
    },
    {
      "cell_type": "code",
      "metadata": {
        "id": "PSzpvJgWcxnu"
      },
      "source": [],
      "execution_count": 12,
      "outputs": []
    },
    {
      "cell_type": "code",
      "metadata": {
        "id": "QIw-jGI9NOCg"
      },
      "source": [],
      "execution_count": 12,
      "outputs": []
    },
    {
      "cell_type": "code",
      "metadata": {
        "id": "fIOb3930ONKS"
      },
      "source": [],
      "execution_count": 12,
      "outputs": []
    },
    {
      "cell_type": "code",
      "metadata": {
        "id": "rFmjikf6ONgu"
      },
      "source": [
        "# distplot combines the matplotlib.hist function with seaborn kdeplot()\n",
        "# KDE Plot represents the Kernel Density Estimate\n",
        "# KDE is used for visualizing the Probability Density of a continuous variable.\n",
        "# KDE demonstrates the probability density at different values in a continuous variable.\n",
        "\n",
        "# Mean of balance is $1500\n",
        "# 'Balance_Frequency' for most customers is updated frequently ~1\n",
        "# For 'PURCHASES_FREQUENCY', there are two distinct group of customers\n",
        "# For 'ONEOFF_PURCHASES_FREQUENCY' and 'PURCHASES_INSTALLMENT_FREQUENCY' most users don't do one off puchases or installment purchases frequently\n",
        "# Very small number of customers pay their balance in full 'PRC_FULL_PAYMENT'~0\n",
        "# Credit limit average is around $4500\n",
        "# Most customers are ~11 years tenure\n"
      ],
      "execution_count": 13,
      "outputs": []
    },
    {
      "cell_type": "code",
      "metadata": {
        "id": "bnGS8pC1UsN9"
      },
      "source": [
        "# sns.pairplot(creditcard_df)\n",
        "# Correlation between 'PURCHASES' and ONEOFF_PURCHASES & INSTALMENT_PURCHASES\n",
        "# Trend between 'PURCHASES' and 'CREDIT_LIMIT' & 'PAYMENTS'\n"
      ],
      "execution_count": 14,
      "outputs": []
    },
    {
      "cell_type": "code",
      "metadata": {
        "id": "c6UiAqTkKD85"
      },
      "source": [],
      "execution_count": 14,
      "outputs": []
    },
    {
      "cell_type": "code",
      "metadata": {
        "id": "zBy4m89a08Sj"
      },
      "source": [
        "\n",
        "# 'PURCHASES' have high correlation between one-off purchases, 'installment purchases, purchase transactions, credit limit and payments.\n",
        "# Strong Positive Correlation between 'PURCHASES_FREQUENCY' and 'PURCHASES_INSTALLMENT_FREQUENCY'\n"
      ],
      "execution_count": 15,
      "outputs": []
    },
    {
      "cell_type": "markdown",
      "metadata": {
        "id": "QRSLmofOqJ2X"
      },
      "source": [
        "# TASK #4: UNDERSTAND THE THEORY AND INTUITON BEHIND K-MEANS"
      ]
    },
    {
      "cell_type": "markdown",
      "metadata": {
        "id": "Snz86eQfl4Ma"
      },
      "source": [
        "![alt text](https://drive.google.com/uc?id=1EBCmP06GuRjVfPgTfH85Yhv9xIAZUj-K)"
      ]
    },
    {
      "cell_type": "markdown",
      "metadata": {
        "id": "DwExHI2Ml9Cu"
      },
      "source": [
        "![alt text](https://drive.google.com/uc?id=1EYWyoec9Be9pYkOaJTjPooTPWgRlJ_Xz)"
      ]
    },
    {
      "cell_type": "markdown",
      "metadata": {
        "id": "0QemFDm2mEZT"
      },
      "source": [
        "![alt text](https://drive.google.com/uc?id=1ppL-slQPatrmHbPBEaT3-8xNH01ckoNE)"
      ]
    },
    {
      "cell_type": "markdown",
      "metadata": {
        "id": "oXKwrdX6mK2b"
      },
      "source": [
        "![alt text](https://drive.google.com/uc?id=1Yfi-dpWW3keU5RLgwAT4YmQ2rfY1GxUh)"
      ]
    },
    {
      "cell_type": "markdown",
      "metadata": {
        "id": "BT4AbAyumQYZ"
      },
      "source": [
        "![alt text](https://drive.google.com/uc?id=1bLRDIZRda0NSTAdcbugasIjDjvgw4JIU)"
      ]
    },
    {
      "cell_type": "markdown",
      "metadata": {
        "id": "ZDFDdbvSmZf3"
      },
      "source": [
        "![alt text](https://drive.google.com/uc?id=1rBQziDU0pS1Fz0m8VQRjQuBoGFSX1Spb)"
      ]
    },
    {
      "cell_type": "markdown",
      "metadata": {
        "id": "fB7IVr8rmdG0"
      },
      "source": [
        "![alt text](https://drive.google.com/uc?id=1BOX2q8R_8E4Icb4v1tpn1eymCTJY2b5o)"
      ]
    },
    {
      "cell_type": "markdown",
      "metadata": {
        "id": "mUfUdppimibu"
      },
      "source": [
        "![alt text](https://drive.google.com/uc?id=1v7hJEPiigSeTTaYo0djbO-L4uEnTpcAU)"
      ]
    },
    {
      "cell_type": "markdown",
      "metadata": {
        "id": "Y0GmpAjG3GiH"
      },
      "source": [
        "# TASK #5: FIND THE OPTIMAL NUMBER OF CLUSTERS USING ELBOW METHOD"
      ]
    },
    {
      "cell_type": "code",
      "metadata": {
        "id": "axr926Btjyux"
      },
      "source": [
        "# Let's scale the data first\n"
      ],
      "execution_count": 16,
      "outputs": []
    },
    {
      "cell_type": "code",
      "metadata": {
        "id": "9CJeasg4kHyP"
      },
      "source": [],
      "execution_count": 16,
      "outputs": []
    },
    {
      "cell_type": "code",
      "metadata": {
        "id": "FK5ggiVPsJE9"
      },
      "source": [],
      "execution_count": 16,
      "outputs": []
    },
    {
      "cell_type": "code",
      "metadata": {
        "id": "1_nb-D8H3cK-"
      },
      "source": [
        "\n",
        "# From this we can observe that, 4th cluster seems to be forming the elbow of the curve.\n",
        "# However, the values does not reduce linearly until 8th cluster.\n",
        "# Let's choose the number of clusters to be 7."
      ],
      "execution_count": 17,
      "outputs": []
    },
    {
      "cell_type": "markdown",
      "metadata": {
        "id": "m_jo7mJ4C8R9"
      },
      "source": [
        "# TASK #6: APPLY K-MEANS METHOD"
      ]
    },
    {
      "cell_type": "code",
      "metadata": {
        "id": "qwzY8rj0uV-a"
      },
      "source": [],
      "execution_count": 17,
      "outputs": []
    },
    {
      "cell_type": "code",
      "metadata": {
        "id": "dShNNvg09zH3"
      },
      "source": [],
      "execution_count": 17,
      "outputs": []
    },
    {
      "cell_type": "code",
      "metadata": {
        "id": "VEiPOUJv9iFK"
      },
      "source": [],
      "execution_count": 17,
      "outputs": []
    },
    {
      "cell_type": "code",
      "metadata": {
        "id": "9ogiZbsGBBl8"
      },
      "source": [
        "# In order to understand what these numbers mean, let's perform inverse transformation\n",
        "\n",
        "\n",
        "# First Customers cluster (Transactors): Those are customers who pay least amount of intrerest charges and careful with their money, Cluster with lowest balance ($104) and cash advance ($303), Percentage of full payment = 23%\n",
        "# Second customers cluster (revolvers) who use credit card as a loan (most lucrative sector): highest balance ($5000) and cash advance (~$5000), low purchase frequency, high cash advance frequency (0.5), high cash advance transactions (16) and low percentage of full payment (3%)\n",
        "# Third customer cluster (VIP/Prime): high credit limit $16K and highest percentage of full payment, target for increase credit limit and increase spending habits\n",
        "# Fourth customer cluster (low tenure): these are customers with low tenure (7 years), low balance\n"
      ],
      "execution_count": 18,
      "outputs": []
    },
    {
      "cell_type": "code",
      "metadata": {
        "id": "kCuHRqBIusm7"
      },
      "source": [],
      "execution_count": 18,
      "outputs": []
    },
    {
      "cell_type": "code",
      "metadata": {
        "id": "Ywcls4cvu2lh"
      },
      "source": [],
      "execution_count": 18,
      "outputs": []
    },
    {
      "cell_type": "code",
      "metadata": {
        "id": "NPQIMB7Fu9f3"
      },
      "source": [],
      "execution_count": 18,
      "outputs": []
    },
    {
      "cell_type": "code",
      "metadata": {
        "id": "kgLSvv-6vHSs"
      },
      "source": [],
      "execution_count": 18,
      "outputs": []
    },
    {
      "cell_type": "code",
      "metadata": {
        "id": "OfMaZqUOqdJB"
      },
      "source": [
        "# concatenate the clusters labels to our original dataframe\n",
        "\n",
        "\n"
      ],
      "execution_count": 19,
      "outputs": []
    },
    {
      "cell_type": "code",
      "metadata": {
        "id": "TYEhR6rvqwda"
      },
      "source": [
        "# Plot the histogram of various clusters\n"
      ],
      "execution_count": 20,
      "outputs": []
    },
    {
      "cell_type": "markdown",
      "metadata": {
        "id": "UVTd7FYLNCAE"
      },
      "source": [
        "# TASK 7: APPLY PRINCIPAL COMPONENT ANALYSIS AND VISUALIZE THE RESULTS"
      ]
    },
    {
      "cell_type": "markdown",
      "metadata": {
        "id": "FXUfg8Camz1s"
      },
      "source": [
        "![alt text](https://drive.google.com/uc?id=1xDuvEnbuNqIjX5Zng39TCfGCf-BBDGf0)"
      ]
    },
    {
      "cell_type": "code",
      "metadata": {
        "id": "RgFq3h993cIz"
      },
      "source": [
        "# Obtain the principal components\n"
      ],
      "execution_count": 21,
      "outputs": []
    },
    {
      "cell_type": "code",
      "metadata": {
        "id": "ad3UQtPU0eHK"
      },
      "source": [
        "# Create a dataframe with the two components\n"
      ],
      "execution_count": 22,
      "outputs": []
    },
    {
      "cell_type": "code",
      "metadata": {
        "id": "q7gsGkEZvkYd"
      },
      "source": [
        "# Concatenate the clusters labels to the dataframe\n"
      ],
      "execution_count": 23,
      "outputs": []
    },
    {
      "cell_type": "code",
      "metadata": {
        "id": "4KYt5SUrvneq"
      },
      "source": [],
      "execution_count": 23,
      "outputs": []
    },
    {
      "cell_type": "markdown",
      "metadata": {
        "id": "7ZSYI8qmCplx"
      },
      "source": [
        "# TASK #8: UNDERSTAND THE THEORY AND INTUITION BEHIND AUTOENCODERS"
      ]
    },
    {
      "cell_type": "markdown",
      "metadata": {
        "id": "HtQekkAFm8-d"
      },
      "source": [
        "![alt text](https://drive.google.com/uc?id=1g0tWKogvKaCrtsfzjApi6m8yGD3boy4x)"
      ]
    },
    {
      "cell_type": "markdown",
      "metadata": {
        "id": "oABWvrTRm9Ey"
      },
      "source": [
        "![alt text](https://drive.google.com/uc?id=1AcyUL_F9zAD2--Hmyq9yTkcA9mC6-bwg)"
      ]
    },
    {
      "cell_type": "markdown",
      "metadata": {
        "id": "VXQ_Rqdzm9S5"
      },
      "source": [
        "![alt text](https://drive.google.com/uc?id=1xk1D5uldId0DWywRJ3-OAVBcIr5NGCq_)"
      ]
    },
    {
      "cell_type": "markdown",
      "metadata": {
        "id": "-wRQqOeB5Zh5"
      },
      "source": [
        "# TASK #9: APPLY AUTOENCODERS (PERFORM DIMENSIONALITY REDUCTION USING AUTOENCODERS)"
      ]
    },
    {
      "cell_type": "code",
      "metadata": {
        "id": "LfGAnIVUv44L"
      },
      "source": [
        "\n"
      ],
      "execution_count": 23,
      "outputs": []
    },
    {
      "cell_type": "code",
      "metadata": {
        "id": "L7IYeT6Q05-Q"
      },
      "source": [],
      "execution_count": 23,
      "outputs": []
    },
    {
      "cell_type": "code",
      "metadata": {
        "id": "Pd9qA2Chweye"
      },
      "source": [],
      "execution_count": 23,
      "outputs": []
    },
    {
      "cell_type": "code",
      "metadata": {
        "id": "zZ86PPLm1sTn"
      },
      "source": [],
      "execution_count": 23,
      "outputs": []
    },
    {
      "cell_type": "code",
      "metadata": {
        "id": "0lL6Wv0e1scz"
      },
      "source": [],
      "execution_count": 23,
      "outputs": []
    },
    {
      "cell_type": "code",
      "metadata": {
        "id": "r_iqk31a2G-t"
      },
      "source": [],
      "execution_count": 23,
      "outputs": []
    },
    {
      "cell_type": "code",
      "metadata": {
        "id": "jnHIsvgn2Omk"
      },
      "source": [],
      "execution_count": 23,
      "outputs": []
    },
    {
      "cell_type": "code",
      "metadata": {
        "id": "EUvpOCwq48IM"
      },
      "source": [],
      "execution_count": 23,
      "outputs": []
    },
    {
      "cell_type": "code",
      "metadata": {
        "id": "7JhXSa-j32rj"
      },
      "source": [],
      "execution_count": 23,
      "outputs": []
    },
    {
      "cell_type": "code",
      "metadata": {
        "id": "utaeIFtD38X-"
      },
      "source": [],
      "execution_count": 23,
      "outputs": []
    },
    {
      "cell_type": "code",
      "metadata": {
        "id": "fhU84OJx4jFb"
      },
      "source": [],
      "execution_count": 23,
      "outputs": []
    },
    {
      "cell_type": "code",
      "metadata": {
        "id": "RlSSorv65kao"
      },
      "source": [],
      "execution_count": 23,
      "outputs": []
    },
    {
      "cell_type": "code",
      "metadata": {
        "id": "G3aPOnO65ot-"
      },
      "source": [],
      "execution_count": 23,
      "outputs": []
    }
  ]
}